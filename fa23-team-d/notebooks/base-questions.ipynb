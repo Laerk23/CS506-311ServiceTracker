{
 "cells": [
  {
   "cell_type": "markdown",
   "metadata": {},
   "source": [
    "# Importing Packages and Config"
   ]
  },
  {
   "cell_type": "code",
   "execution_count": 3,
   "metadata": {},
   "outputs": [],
   "source": [
    "import pandas as pd\n",
    "import seaborn as sns\n",
    "import numpy as np\n",
    "import matplotlib.pyplot as plt\n",
    "from ipywidgets import interact\n",
    "from ipywidgets import  fixed\n",
    "import ipywidgets as widgets\n",
    "import ipywidgets as interactive\n",
    "plt.rcParams['figure.figsize'] = [16,8]\n",
    "from IPython.display import Javascript"
   ]
  },
  {
   "cell_type": "markdown",
   "metadata": {},
   "source": [
    "#### Some Misc Functions"
   ]
  },
  {
   "cell_type": "code",
   "execution_count": 32,
   "metadata": {},
   "outputs": [],
   "source": [
    "def fmt(x):\n",
    "    if x >= 10**6:\n",
    "        return f'{x/10**6:.1f}M'\n",
    "    elif x >= 10**3:\n",
    "        return f'{x/10**3:.1f}K'\n",
    "    else:\n",
    "        return f'{x:.0f}'\n",
    "\n",
    "def convert_from_seconds(sec, to = 'days'):\n",
    "    match to:\n",
    "        case 'months':\n",
    "            return sec / 60 / 60 / 24 / 30\n",
    "        case 'days':\n",
    "            return sec / 60 / 60 / 24\n",
    "        case 'hours':\n",
    "            return sec / 60 / 60\n",
    "        case 'minutes':\n",
    "            return sec / 60\n",
    "        case 'seconds':\n",
    "            return sec\n",
    "        case _:\n",
    "            raise ValueError(f'Unknown unit {to}')\n"
   ]
  },
  {
   "cell_type": "markdown",
   "metadata": {},
   "source": [
    "# Importing the dataset"
   ]
  },
  {
   "cell_type": "code",
   "execution_count": 5,
   "metadata": {},
   "outputs": [],
   "source": [
    "df_orig = pd.read_csv('../data/311.csv', low_memory=False)"
   ]
  },
  {
   "cell_type": "code",
   "execution_count": 7,
   "metadata": {},
   "outputs": [],
   "source": [
    "df = df_orig.copy(deep=True)"
   ]
  },
  {
   "cell_type": "markdown",
   "metadata": {},
   "source": [
    "# Convert dates"
   ]
  },
  {
   "cell_type": "code",
   "execution_count": 8,
   "metadata": {},
   "outputs": [],
   "source": [
    "df['open_dt'] = pd.to_datetime(df['open_dt'],format='%Y-%m-%d %H:%M:%S')\n",
    "df['sla_target_dt'] = pd.to_datetime(df['sla_target_dt'],format='%Y-%m-%d %H:%M:%S')\n",
    "df['closed_dt'] = pd.to_datetime(df['closed_dt'],format='%Y-%m-%d %H:%M:%S')"
   ]
  },
  {
   "cell_type": "markdown",
   "metadata": {},
   "source": [
    "# Base Questions"
   ]
  },
  {
   "cell_type": "markdown",
   "metadata": {},
   "source": [
    "## What is the total volume of requests per year or how many 311 requests is the city receiving per year?"
   ]
  },
  {
   "cell_type": "code",
   "execution_count": 13,
   "metadata": {},
   "outputs": [
    {
     "data": {
      "text/html": [
       "<style>\n",
       "/*overwrite hard coded write background by vscode for ipywidges */\n",
       ".cell-output-ipywidget-background {\n",
       "   background-color: transparent !important;\n",
       "}\n",
       "\n",
       "/*set widget foreground text and color of interactive widget to vs dark theme color */\n",
       ":root {\n",
       "    --jp-widgets-color: var(--vscode-editor-foreground);\n",
       "    --jp-widgets-font-size: var(--vscode-editor-font-size);\n",
       "}\n",
       "</style>\n"
      ],
      "text/plain": [
       "<IPython.core.display.HTML object>"
      ]
     },
     "metadata": {},
     "output_type": "display_data"
    }
   ],
   "source": [
    "%%html\n",
    "<style>\n",
    "/*overwrite hard coded write background by vscode for ipywidges */\n",
    ".cell-output-ipywidget-background {\n",
    "   background-color: transparent !important;\n",
    "}\n",
    "\n",
    "/*set widget foreground text and color of interactive widget to vs dark theme color */\n",
    ":root {\n",
    "    --jp-widgets-color: var(--vscode-editor-foreground);\n",
    "    --jp-widgets-font-size: var(--vscode-editor-font-size);\n",
    "}\n",
    "</style>"
   ]
  },
  {
   "cell_type": "code",
   "execution_count": 33,
   "metadata": {},
   "outputs": [
    {
     "data": {
      "application/vnd.jupyter.widget-view+json": {
       "model_id": "b3f862ba44af4d77b7f2c5411aee50d4",
       "version_major": 2,
       "version_minor": 0
      },
      "text/plain": [
       "Output()"
      ]
     },
     "metadata": {},
     "output_type": "display_data"
    }
   ],
   "source": [
    "def plot():\n",
    "    out = widgets.Output()\n",
    "\n",
    "    with out:\n",
    "        fig = sns.countplot(df,x=df['open_dt'].dt.year)\n",
    "\n",
    "        fig.bar_label(fig.containers[0], fmt=fmt, label_type='edge')\n",
    "        fig.set(xlabel='Year', ylabel='Number of Requests')\n",
    "\n",
    "        plt.title('311 Requests by Year')\n",
    "\n",
    "        plt.show()\n",
    "        \n",
    "    return out\n",
    "\n",
    "output_year = plot()\n",
    "display(output_year)"
   ]
  },
  {
   "cell_type": "markdown",
   "metadata": {},
   "source": [
    "## Which service requests are most common for the city overall AND by NEIGHBORHOOD and how is this changing year over year by SUBJECT (department), REASON,QUEUE?"
   ]
  },
  {
   "cell_type": "markdown",
   "metadata": {},
   "source": [
    "In the neighborhood column there are a lot of null values and also values that are ' ', i.e. string with one space character. \n",
    "\n",
    "We decided to change these values to one common name, 'No Neighborhood', so no piece of data will be lost."
   ]
  },
  {
   "cell_type": "code",
   "execution_count": 16,
   "metadata": {},
   "outputs": [],
   "source": [
    "df['neighborhood'] = df['neighborhood'].fillna(' ')\n",
    "# now replace all ' ' values with 'No Neighborhood'\n",
    "df.loc[df.neighborhood == ' ','neighborhood'] = 'No Neighborhood'"
   ]
  },
  {
   "cell_type": "markdown",
   "metadata": {},
   "source": [
    "## How is the case volume changing by submission channel SOURCE?"
   ]
  },
  {
   "cell_type": "code",
   "execution_count": 34,
   "metadata": {},
   "outputs": [
    {
     "data": {
      "application/vnd.jupyter.widget-view+json": {
       "model_id": "39e3f8b1b728466ab03195c075888059",
       "version_major": 2,
       "version_minor": 0
      },
      "text/plain": [
       "IntRangeSlider(value=(2011, 2023), continuous_update=False, description='Years:', layout=Layout(width='40%'), …"
      ]
     },
     "metadata": {},
     "output_type": "display_data"
    },
    {
     "data": {
      "application/vnd.jupyter.widget-view+json": {
       "model_id": "bb0f5c73d01944e59ded806a35216dbe",
       "version_major": 2,
       "version_minor": 0
      },
      "text/plain": [
       "Button(description='Plot', style=ButtonStyle())"
      ]
     },
     "metadata": {},
     "output_type": "display_data"
    },
    {
     "data": {
      "application/vnd.jupyter.widget-view+json": {
       "model_id": "d79d13b3dc304ea49413a14e48ee55ba",
       "version_major": 2,
       "version_minor": 0
      },
      "text/plain": [
       "Output()"
      ]
     },
     "metadata": {},
     "output_type": "display_data"
    }
   ],
   "source": [
    "year_range = df.open_dt.dt.year.agg(['min','max'])\n",
    "year_slider = widgets.IntRangeSlider(\n",
    "    value=[year_range['min'], year_range['max']],\n",
    "    min=year_range['min'],\n",
    "    max=year_range['max'],\n",
    "    step=1,\n",
    "    description='Years:',\n",
    "    disabled=False,\n",
    "    continuous_update=False,\n",
    "    orientation='horizontal',\n",
    "    readout=True,\n",
    "    readout_format='d',\n",
    "    layout=widgets.Layout(width='40%')\n",
    ")\n",
    "\n",
    "plot_button = widgets.Button(description='Plot')\n",
    "\n",
    "def plot():\n",
    "    years = year_slider.value\n",
    "    filtered = df[df.open_dt.dt.year.between(years[0],years[1])]\n",
    "    \n",
    "    fig = sns.countplot(data=filtered, x='source',order=filtered['source'].value_counts().index)\n",
    "    \n",
    "    fig.bar_label(fig.containers[0],fmt = fmt, fontsize=12)\n",
    "    fig.set(xlabel='Source',ylabel='Volume')\n",
    "\n",
    "    if years[0] == years[1]:\n",
    "        plt.title(f'311 Requests by Source for {years[0]} by source')\n",
    "    else:\n",
    "        plt.title(f'311 Requests by Source for {years[0]}-{years[1]} by source')\n",
    "\n",
    "    plt.show()\n",
    "\n",
    "def on_button_clicked(b):\n",
    "    with output:\n",
    "        output.clear_output()\n",
    "        plot()\n",
    "\n",
    "output = widgets.Output()\n",
    "plot_button.on_click(on_button_clicked)\n",
    "\n",
    "display(year_slider)\n",
    "display(plot_button)\n",
    "display(output)\n",
    "\n",
    "plot_button.click()\n",
    "    "
   ]
  },
  {
   "cell_type": "markdown",
   "metadata": {},
   "source": [
    "## What is the average # of daily contacts by year?"
   ]
  },
  {
   "cell_type": "code",
   "execution_count": 35,
   "metadata": {},
   "outputs": [
    {
     "data": {
      "application/vnd.jupyter.widget-view+json": {
       "model_id": "9b744fa8e3774b3195b70dc9d1c8ccc1",
       "version_major": 2,
       "version_minor": 0
      },
      "text/plain": [
       "Output()"
      ]
     },
     "metadata": {},
     "output_type": "display_data"
    }
   ],
   "source": [
    "def plot():\n",
    "    out = widgets.Output()\n",
    "\n",
    "    with out:\n",
    "        averages = df.groupby(df['open_dt'].dt.year)['case_enquiry_id'].count() / 365\n",
    "        plt.title('Average Number of Requests per Day by Year')\n",
    "        fig = sns.barplot(x=averages.index,y=averages)\n",
    "        fig.bar_label(fig.containers[0], fmt=fmt, fontsize=12)\n",
    "        fig.set(xlabel='Year',ylabel='Average Number of Requests per Day')\n",
    "        plt.show()\n",
    "    \n",
    "    return out\n",
    "\n",
    "output_day_avg = plot()\n",
    "display(output_day_avg)"
   ]
  },
  {
   "cell_type": "markdown",
   "metadata": {},
   "source": [
    "## Volume of top 5 request types (TYPE)"
   ]
  },
  {
   "cell_type": "code",
   "execution_count": 40,
   "metadata": {},
   "outputs": [
    {
     "data": {
      "application/vnd.jupyter.widget-view+json": {
       "model_id": "c4d0f4678e5141a2936a0967b3ff279f",
       "version_major": 2,
       "version_minor": 0
      },
      "text/plain": [
       "IntRangeSlider(value=(2011, 2023), continuous_update=False, description='Years:', layout=Layout(width='40%'), …"
      ]
     },
     "metadata": {},
     "output_type": "display_data"
    },
    {
     "data": {
      "application/vnd.jupyter.widget-view+json": {
       "model_id": "2a4b1e5dd27b41f7837fc81882565260",
       "version_major": 2,
       "version_minor": 0
      },
      "text/plain": [
       "Button(description='Plot', style=ButtonStyle())"
      ]
     },
     "metadata": {},
     "output_type": "display_data"
    },
    {
     "data": {
      "application/vnd.jupyter.widget-view+json": {
       "model_id": "b8f9086e616a4b568802639e099dd41d",
       "version_major": 2,
       "version_minor": 0
      },
      "text/plain": [
       "Output()"
      ]
     },
     "metadata": {},
     "output_type": "display_data"
    }
   ],
   "source": [
    "year_range = df.open_dt.dt.year.agg(['min','max'])\n",
    "year_slider = widgets.IntRangeSlider(\n",
    "    value=[year_range['min'], year_range['max']],\n",
    "    min=year_range['min'],\n",
    "    max=year_range['max'],\n",
    "    step=1,\n",
    "    description='Years:',\n",
    "    disabled=False,\n",
    "    continuous_update=False,\n",
    "    orientation='horizontal',\n",
    "    readout=True,\n",
    "    readout_format='d',\n",
    "    layout=widgets.Layout(width='40%')\n",
    ")\n",
    "plot_button = widgets.Button(description='Plot')\n",
    "\n",
    "def plot():\n",
    "    years = year_slider.value\n",
    "    filtered = df[df.open_dt.dt.year.between(years[0],years[1])]\n",
    "\n",
    "    if years[0] == years[1]:\n",
    "        plt.title(f'Top 5 request Types for {years[0]}')\n",
    "    else:\n",
    "        plt.title(f'Top 5 request Types for {years[0]}-{years[1]}')\n",
    "    \n",
    "    fig = sns.countplot(filtered,x=filtered['type'], order = filtered['type'].value_counts().head().index)\n",
    "\n",
    "    fig.bar_label(fig.containers[0],fmt=fmt,fontsize=12)\n",
    "    fig.set(xlabel='Source',ylabel='Volume')\n",
    "    plt.show()\n",
    "    \n",
    "\n",
    "output_type = widgets.Output()\n",
    "\n",
    "def on_button_clicked(b):\n",
    "    with output_type:\n",
    "        output_type.clear_output()\n",
    "        plot()\n",
    "\n",
    "plot_button.on_click(on_button_clicked)\n",
    "\n",
    "display(year_slider)\n",
    "display(plot_button)\n",
    "display(output_type)\n",
    "\n",
    "on_button_clicked(None)\n"
   ]
  },
  {
   "cell_type": "code",
   "execution_count": null,
   "metadata": {},
   "outputs": [
    {
     "data": {
      "text/plain": [
       "181"
      ]
     },
     "metadata": {},
     "output_type": "display_data"
    }
   ],
   "source": [
    "df['queue'].nunique()"
   ]
  },
  {
   "cell_type": "markdown",
   "metadata": {},
   "source": [
    "## Average goal resolution time by QUEUE\n",
    "\n"
   ]
  },
  {
   "cell_type": "markdown",
   "metadata": {},
   "source": [
    "Let's add a new column, called resolution_time, which shows how much time was spent on a request"
   ]
  },
  {
   "cell_type": "code",
   "execution_count": 5,
   "metadata": {},
   "outputs": [
    {
     "data": {
      "text/plain": [
       "count                        2513216\n",
       "mean      31 days 07:22:48.904903912\n",
       "std      159 days 01:27:55.353008794\n",
       "min                -1 days +23:59:02\n",
       "25%                  0 days 01:31:12\n",
       "50%                  0 days 18:02:33\n",
       "75%           5 days 17:05:57.250000\n",
       "max               4417 days 23:00:22\n",
       "Name: resolution_time, dtype: object"
      ]
     },
     "execution_count": 5,
     "metadata": {},
     "output_type": "execute_result"
    }
   ],
   "source": [
    "df['resolution_time'] = df['closed_dt'] - df['open_dt'] # add new column for resolution time\n",
    "df['resolution_time'].describe()"
   ]
  },
  {
   "cell_type": "markdown",
   "metadata": {},
   "source": [
    "Since there are values with negative dates, let's set them equal to 0"
   ]
  },
  {
   "cell_type": "code",
   "execution_count": 6,
   "metadata": {},
   "outputs": [
    {
     "data": {
      "text/plain": [
       "count                        2513216\n",
       "mean      31 days 07:22:48.907035046\n",
       "std      159 days 01:27:55.352589326\n",
       "min                  0 days 00:00:00\n",
       "25%                  0 days 01:31:12\n",
       "50%                  0 days 18:02:33\n",
       "75%           5 days 17:05:57.250000\n",
       "max               4417 days 23:00:22\n",
       "Name: resolution_time, dtype: object"
      ]
     },
     "execution_count": 6,
     "metadata": {},
     "output_type": "execute_result"
    }
   ],
   "source": [
    "from datetime import timedelta\n",
    "df.loc[df['resolution_time'] < timedelta(0),'resolution_time'] = timedelta(seconds=0)\n",
    "df['resolution_time'].describe()"
   ]
  },
  {
   "cell_type": "markdown",
   "metadata": {},
   "source": [
    "There are 181 different queues, so we have to split them into groups.\n",
    "\n",
    "\n",
    "First, we will split groups by department, then group inside if needed.\n",
    "\n",
    "These are the groups we end up with:\n",
    "\n",
    "1. PWD Group\n",
    "2.  BTDT Group\n",
    "3.  ISD Group\n",
    "4.  INFO Group\n",
    "5.  PARK Group\n",
    "6.  Other Group\n",
    "\n",
    "\n",
    "Since PWD Group has 70 unique queues, we applied custom grouping\n",
    "\n",
    "1. Engineering : \n",
    "2. Repair\n",
    "3. Highway\n",
    "4. Snow\n",
    "5. Street Light\n",
    "6. Complaint\n",
    "7. Recycling\n",
    "8. Other\n",
    "9. Litter Basket\n",
    "10. District\n"
   ]
  },
  {
   "cell_type": "code",
   "execution_count": 106,
   "metadata": {},
   "outputs": [
    {
     "data": {
      "application/vnd.jupyter.widget-view+json": {
       "model_id": "a17bc99429304edbb3693f53bff440a7",
       "version_major": 2,
       "version_minor": 0
      },
      "text/plain": [
       "HBox(children=(RadioButtons(options=('PWDx', 'BTDT', 'INFO', 'ISD', 'PARK', 'PROP', 'BWSC', 'DISB', 'No Q', 'B…"
      ]
     },
     "metadata": {},
     "output_type": "display_data"
    },
    {
     "data": {
      "application/vnd.jupyter.widget-view+json": {
       "model_id": "51ca48a4203f47d6b3541663ce54474e",
       "version_major": 2,
       "version_minor": 0
      },
      "text/plain": [
       "Output()"
      ]
     },
     "metadata": {},
     "output_type": "display_data"
    }
   ],
   "source": [
    "department_radio_buttons = widgets.RadioButtons(\n",
    "    options = df.department.unique()\n",
    ")\n",
    "\n",
    "plot_button = widgets.Button(description='Plot')\n",
    "\n",
    "def plot():\n",
    "    department = department_radio_buttons.value\n",
    "    \n",
    "    filtered = df[df.department == department]\n",
    "    \n",
    "    fig = sns.countplot(data = filtered, x = 'queue')\n",
    "    \n",
    "\n",
    "    plt.show()\n",
    "\n",
    "\n",
    "output_queue = widgets.Output()\n",
    "\n",
    "def on_button_clicked(b = None):\n",
    "    with output_queue:\n",
    "        output_queue.clear_output()\n",
    "        plot()\n",
    "\n",
    "plot_button.on_click(on_button_clicked)\n",
    "display(widgets.HBox([department_radio_buttons,plot_button]))\n",
    "display(output_queue)\n",
    "on_button_clicked()"
   ]
  },
  {
   "cell_type": "code",
   "execution_count": 56,
   "metadata": {},
   "outputs": [
    {
     "data": {
      "application/vnd.jupyter.widget-view+json": {
       "model_id": "55f795107be7471a809f223a09265fa8",
       "version_major": 2,
       "version_minor": 0
      },
      "text/plain": [
       "Output()"
      ]
     },
     "metadata": {},
     "output_type": "display_data"
    }
   ],
   "source": [
    "def plot():\n",
    "    out = widgets.Output()\n",
    "\n",
    "    def assign_grouping(value,values):\n",
    "        for group in values:\n",
    "            if group in value:\n",
    "                return group\n",
    "        return 'Other'\n",
    "\n",
    "    def plot_graph(df,department,group):\n",
    "        with out:\n",
    "            only_department_group = df.loc[df['department'] == department].copy(deep=True)\n",
    "            only_department_group['queue_group'] = only_department_group['queue'].apply(lambda entry: assign_grouping(entry,group))\n",
    "\n",
    "            average_resolution_times = only_department_group.groupby('queue_group')['resolution_time'].mean().reset_index()\n",
    "\n",
    "            plt.title(f'Average Resolution Time by Queue Group for {department}')\n",
    "            fig = sns.barplot(average_resolution_times,y='queue_group',x=average_resolution_times['resolution_time'].apply(convert_from_seconds),order=average_resolution_times.sort_values(by='resolution_time',ascending=False)['queue_group'])\n",
    "            fig.bar_label(fig.containers[0], fmt='%.2f', label_type='edge', fontsize=12)\n",
    "            fig.set(xlabel='Average Resolution Time (Days)',ylabel='Queue Group')\n",
    "            plt.show()\n",
    "\n",
    "    \n",
    "    plot_graph(df,'PWDx', ['Recycling','District','Street Light','Highway','Snow','Repair','Complaint','Litter Basket','Engineering'])\n",
    "    display(out)\n",
    "\n",
    "plot()"
   ]
  },
  {
   "cell_type": "markdown",
   "metadata": {},
   "source": [
    "## Average goal resolution time by QUEUE and neighborhood}"
   ]
  },
  {
   "cell_type": "code",
   "execution_count": null,
   "metadata": {},
   "outputs": [],
   "source": []
  },
  {
   "cell_type": "markdown",
   "metadata": {},
   "source": [
    "## What % of service requests are closed (CLOSED_DT or CASE_STATUS) vs. no data (CASE_STATUS = null) vs. unresolved (CASE_STATUS = open)?"
   ]
  },
  {
   "cell_type": "code",
   "execution_count": 24,
   "metadata": {},
   "outputs": [
    {
     "data": {
      "image/png": "[encoded data removed]",
      "text/plain": [
       "<Figure size 1600x800 with 1 Axes>"
      ]
     },
     "metadata": {},
     "output_type": "display_data"
    },
    {
     "data": {
      "application/vnd.jupyter.widget-view+json": {
       "model_id": "85bfb405771c4ad79dbf251eacffab18",
       "version_major": 2,
       "version_minor": 0
      },
      "text/plain": [
       "Output()"
      ]
     },
     "metadata": {},
     "output_type": "display_data"
    }
   ],
   "source": [
    "def plot():\n",
    "    out = widgets.Output()\n",
    "\n",
    "    def plot_graph():\n",
    "        plt.title('Open vs Closed Requests')\n",
    "        fig = sns.countplot(data=df, x='case_status')\n",
    "        fig.bar_label(fig.containers[0], label_type='edge', fmt='%d', fontsize=12)\n",
    "        fig.set(xlabel='Year', ylabel='Number of Requests')\n",
    "        plt.tight_layout()\n",
    "        plt.show()\n",
    "\n",
    "    plot_graph()\n",
    "    display(out)\n",
    "\n",
    "plot()"
   ]
  },
  {
   "cell_type": "code",
   "execution_count": null,
   "metadata": {},
   "outputs": [],
   "source": []
  },
  {
   "cell_type": "code",
   "execution_count": null,
   "metadata": {},
   "outputs": [],
   "source": []
  }
 ],
 "metadata": {
  "kernelspec": {
   "display_name": "Python 3",
   "language": "python",
   "name": "python3"
  },
  "language_info": {
   "codemirror_mode": {
    "name": "ipython",
    "version": 3
   },
   "file_extension": ".py",
   "mimetype": "text/x-python",
   "name": "python",
   "nbconvert_exporter": "python",
   "pygments_lexer": "ipython3",
   "version": "3.11.4"
  }
 },
 "nbformat": 4,
 "nbformat_minor": 2
}
