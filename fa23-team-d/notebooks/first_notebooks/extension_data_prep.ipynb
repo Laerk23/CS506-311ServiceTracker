{
 "cells": [
  {
   "cell_type": "code",
   "execution_count": 1,
   "metadata": {},
   "outputs": [],
   "source": [
    "import pandas as pd\n",
    "import seaborn as sns\n",
    "import matplotlib.pyplot as plt\n",
    "import numpy as np"
   ]
  },
  {
   "cell_type": "code",
   "execution_count": 3,
   "metadata": {},
   "outputs": [
    {
     "name": "stderr",
     "output_type": "stream",
     "text": [
      "C:\\Users\\kmfoc\\AppData\\Local\\Temp\\ipykernel_92372\\2510705985.py:1: DtypeWarning: Columns (13,14) have mixed types. Specify dtype option on import or set low_memory=False.\n",
      "  original_df = pd.read_csv('../../data/311.csv')\n"
     ]
    },
    {
     "data": {
      "text/html": [
       "<div>\n",
       "<style scoped>\n",
       "    .dataframe tbody tr th:only-of-type {\n",
       "        vertical-align: middle;\n",
       "    }\n",
       "\n",
       "    .dataframe tbody tr th {\n",
       "        vertical-align: top;\n",
       "    }\n",
       "\n",
       "    .dataframe thead th {\n",
       "        text-align: right;\n",
       "    }\n",
       "</style>\n",
       "<table border=\"1\" class=\"dataframe\">\n",
       "  <thead>\n",
       "    <tr style=\"text-align: right;\">\n",
       "      <th></th>\n",
       "      <th>case_enquiry_id</th>\n",
       "      <th>open_dt</th>\n",
       "      <th>sla_target_dt</th>\n",
       "      <th>closed_dt</th>\n",
       "      <th>on_time</th>\n",
       "      <th>case_status</th>\n",
       "      <th>closure_reason</th>\n",
       "      <th>case_title</th>\n",
       "      <th>subject</th>\n",
       "      <th>reason</th>\n",
       "      <th>...</th>\n",
       "      <th>neighborhood</th>\n",
       "      <th>neighborhood_services_district</th>\n",
       "      <th>ward</th>\n",
       "      <th>precinct</th>\n",
       "      <th>location_street_name</th>\n",
       "      <th>location_zipcode</th>\n",
       "      <th>latitude</th>\n",
       "      <th>longitude</th>\n",
       "      <th>geom_4326</th>\n",
       "      <th>source</th>\n",
       "    </tr>\n",
       "  </thead>\n",
       "  <tbody>\n",
       "    <tr>\n",
       "      <th>0</th>\n",
       "      <td>101000295613</td>\n",
       "      <td>2011-06-30 21:32:33</td>\n",
       "      <td>2011-07-14 21:32:32</td>\n",
       "      <td>2011-07-01 01:06:58</td>\n",
       "      <td>ONTIME</td>\n",
       "      <td>Closed</td>\n",
       "      <td>Case Closed Case Resolved replaced 100 amp fus...</td>\n",
       "      <td>Street Light Outages</td>\n",
       "      <td>Public Works Department</td>\n",
       "      <td>Street Lights</td>\n",
       "      <td>...</td>\n",
       "      <td>Greater Mattapan</td>\n",
       "      <td>7</td>\n",
       "      <td>Ward 17</td>\n",
       "      <td>1714</td>\n",
       "      <td>INTERSECTION Groveland St &amp; River St</td>\n",
       "      <td>NaN</td>\n",
       "      <td>42.271544</td>\n",
       "      <td>-71.077221</td>\n",
       "      <td>0101000020E6100000CC4F6F30F1C451C0ADBC83F5C122...</td>\n",
       "      <td>Employee Generated</td>\n",
       "    </tr>\n",
       "    <tr>\n",
       "      <th>1</th>\n",
       "      <td>101000295614</td>\n",
       "      <td>2011-06-30 22:18:31</td>\n",
       "      <td>2011-07-04 22:18:31</td>\n",
       "      <td>2011-07-01 02:12:43</td>\n",
       "      <td>ONTIME</td>\n",
       "      <td>Closed</td>\n",
       "      <td>Case Closed Case Scheduled Items have been sch...</td>\n",
       "      <td>Schedule a Bulk Item Pickup</td>\n",
       "      <td>Public Works Department</td>\n",
       "      <td>Sanitation</td>\n",
       "      <td>...</td>\n",
       "      <td>Roslindale</td>\n",
       "      <td>10</td>\n",
       "      <td>Ward 20</td>\n",
       "      <td>2008</td>\n",
       "      <td>39 Lorraine St</td>\n",
       "      <td>2131.0</td>\n",
       "      <td>42.283850</td>\n",
       "      <td>-71.144741</td>\n",
       "      <td>0101000020E6100000C960F36E43C951C06CE46A2F5524...</td>\n",
       "      <td>Self Service</td>\n",
       "    </tr>\n",
       "    <tr>\n",
       "      <th>2</th>\n",
       "      <td>101000295615</td>\n",
       "      <td>2011-06-30 22:28:04</td>\n",
       "      <td>2011-08-14 22:28:04</td>\n",
       "      <td>2011-08-01 11:21:46</td>\n",
       "      <td>ONTIME</td>\n",
       "      <td>Closed</td>\n",
       "      <td>Case Closed Case Resolved No Sidewalk and poor...</td>\n",
       "      <td>New Sign  Crosswalk or Pavement Marking</td>\n",
       "      <td>Transportation - Traffic Division</td>\n",
       "      <td>Signs &amp; Signals</td>\n",
       "      <td>...</td>\n",
       "      <td>West Roxbury</td>\n",
       "      <td>12</td>\n",
       "      <td>Ward 20</td>\n",
       "      <td>2017</td>\n",
       "      <td>INTERSECTION Corey St &amp; Lagrange St</td>\n",
       "      <td>NaN</td>\n",
       "      <td>42.300278</td>\n",
       "      <td>-71.169805</td>\n",
       "      <td>0101000020E6100000B311E014DECA51C0A1102F826F26...</td>\n",
       "      <td>Self Service</td>\n",
       "    </tr>\n",
       "    <tr>\n",
       "      <th>3</th>\n",
       "      <td>101000295616</td>\n",
       "      <td>2011-06-30 23:03:48</td>\n",
       "      <td>2011-07-14 23:03:48</td>\n",
       "      <td>2011-07-22 12:13:45</td>\n",
       "      <td>OVERDUE</td>\n",
       "      <td>Closed</td>\n",
       "      <td>Case Closed Case Resolved completed</td>\n",
       "      <td>Street Light Outages</td>\n",
       "      <td>Public Works Department</td>\n",
       "      <td>Street Lights</td>\n",
       "      <td>...</td>\n",
       "      <td>Hyde Park</td>\n",
       "      <td>10</td>\n",
       "      <td>Ward 18</td>\n",
       "      <td>1816</td>\n",
       "      <td>235 Fairmount Ave</td>\n",
       "      <td>2136.0</td>\n",
       "      <td>42.249640</td>\n",
       "      <td>-71.115631</td>\n",
       "      <td>0101000020E61000003219CE7E66C751C0DDF2D930F41F...</td>\n",
       "      <td>Self Service</td>\n",
       "    </tr>\n",
       "    <tr>\n",
       "      <th>4</th>\n",
       "      <td>101000295617</td>\n",
       "      <td>2011-06-30 23:12:31</td>\n",
       "      <td>NaN</td>\n",
       "      <td>2011-07-01 02:12:38</td>\n",
       "      <td>ONTIME</td>\n",
       "      <td>Closed</td>\n",
       "      <td>Case Closed Case Resolved</td>\n",
       "      <td>Highway Maintenance</td>\n",
       "      <td>Public Works Department</td>\n",
       "      <td>Highway Maintenance</td>\n",
       "      <td>...</td>\n",
       "      <td>Dorchester</td>\n",
       "      <td>7</td>\n",
       "      <td>Ward 13</td>\n",
       "      <td>1309</td>\n",
       "      <td>INTERSECTION Dorchester Ave &amp; Hallam St</td>\n",
       "      <td>NaN</td>\n",
       "      <td>42.314436</td>\n",
       "      <td>-71.056878</td>\n",
       "      <td>0101000020E6100000615079E5A3C351C0C71CEA6D3F28...</td>\n",
       "      <td>Constituent Call</td>\n",
       "    </tr>\n",
       "  </tbody>\n",
       "</table>\n",
       "<p>5 rows × 30 columns</p>\n",
       "</div>"
      ],
      "text/plain": [
       "   case_enquiry_id              open_dt        sla_target_dt  \\\n",
       "0     101000295613  2011-06-30 21:32:33  2011-07-14 21:32:32   \n",
       "1     101000295614  2011-06-30 22:18:31  2011-07-04 22:18:31   \n",
       "2     101000295615  2011-06-30 22:28:04  2011-08-14 22:28:04   \n",
       "3     101000295616  2011-06-30 23:03:48  2011-07-14 23:03:48   \n",
       "4     101000295617  2011-06-30 23:12:31                  NaN   \n",
       "\n",
       "             closed_dt  on_time case_status  \\\n",
       "0  2011-07-01 01:06:58   ONTIME      Closed   \n",
       "1  2011-07-01 02:12:43   ONTIME      Closed   \n",
       "2  2011-08-01 11:21:46   ONTIME      Closed   \n",
       "3  2011-07-22 12:13:45  OVERDUE      Closed   \n",
       "4  2011-07-01 02:12:38   ONTIME      Closed   \n",
       "\n",
       "                                      closure_reason  \\\n",
       "0  Case Closed Case Resolved replaced 100 amp fus...   \n",
       "1  Case Closed Case Scheduled Items have been sch...   \n",
       "2  Case Closed Case Resolved No Sidewalk and poor...   \n",
       "3               Case Closed Case Resolved completed    \n",
       "4                         Case Closed Case Resolved    \n",
       "\n",
       "                                case_title                            subject  \\\n",
       "0                     Street Light Outages            Public Works Department   \n",
       "1              Schedule a Bulk Item Pickup            Public Works Department   \n",
       "2  New Sign  Crosswalk or Pavement Marking  Transportation - Traffic Division   \n",
       "3                     Street Light Outages            Public Works Department   \n",
       "4                      Highway Maintenance            Public Works Department   \n",
       "\n",
       "                reason  ...      neighborhood neighborhood_services_district  \\\n",
       "0        Street Lights  ...  Greater Mattapan                              7   \n",
       "1           Sanitation  ...        Roslindale                             10   \n",
       "2      Signs & Signals  ...      West Roxbury                             12   \n",
       "3        Street Lights  ...         Hyde Park                             10   \n",
       "4  Highway Maintenance  ...        Dorchester                              7   \n",
       "\n",
       "      ward precinct                     location_street_name location_zipcode  \\\n",
       "0  Ward 17     1714     INTERSECTION Groveland St & River St              NaN   \n",
       "1  Ward 20     2008                           39 Lorraine St           2131.0   \n",
       "2  Ward 20     2017      INTERSECTION Corey St & Lagrange St              NaN   \n",
       "3  Ward 18     1816                        235 Fairmount Ave           2136.0   \n",
       "4  Ward 13     1309  INTERSECTION Dorchester Ave & Hallam St              NaN   \n",
       "\n",
       "    latitude  longitude                                          geom_4326  \\\n",
       "0  42.271544 -71.077221  0101000020E6100000CC4F6F30F1C451C0ADBC83F5C122...   \n",
       "1  42.283850 -71.144741  0101000020E6100000C960F36E43C951C06CE46A2F5524...   \n",
       "2  42.300278 -71.169805  0101000020E6100000B311E014DECA51C0A1102F826F26...   \n",
       "3  42.249640 -71.115631  0101000020E61000003219CE7E66C751C0DDF2D930F41F...   \n",
       "4  42.314436 -71.056878  0101000020E6100000615079E5A3C351C0C71CEA6D3F28...   \n",
       "\n",
       "               source  \n",
       "0  Employee Generated  \n",
       "1        Self Service  \n",
       "2        Self Service  \n",
       "3        Self Service  \n",
       "4    Constituent Call  \n",
       "\n",
       "[5 rows x 30 columns]"
      ]
     },
     "execution_count": 3,
     "metadata": {},
     "output_type": "execute_result"
    }
   ],
   "source": [
    "original_df = pd.read_csv('../../data/311.csv')\n",
    "original_df.head()"
   ]
  },
  {
   "cell_type": "code",
   "execution_count": 5,
   "metadata": {},
   "outputs": [
    {
     "data": {
      "text/html": [
       "<div>\n",
       "<style scoped>\n",
       "    .dataframe tbody tr th:only-of-type {\n",
       "        vertical-align: middle;\n",
       "    }\n",
       "\n",
       "    .dataframe tbody tr th {\n",
       "        vertical-align: top;\n",
       "    }\n",
       "\n",
       "    .dataframe thead th {\n",
       "        text-align: right;\n",
       "    }\n",
       "</style>\n",
       "<table border=\"1\" class=\"dataframe\">\n",
       "  <thead>\n",
       "    <tr style=\"text-align: right;\">\n",
       "      <th></th>\n",
       "      <th>case_enquiry_id</th>\n",
       "      <th>open_dt</th>\n",
       "      <th>sla_target_dt</th>\n",
       "      <th>closed_dt</th>\n",
       "      <th>on_time</th>\n",
       "      <th>case_status</th>\n",
       "      <th>closure_reason</th>\n",
       "      <th>case_title</th>\n",
       "      <th>subject</th>\n",
       "      <th>reason</th>\n",
       "      <th>...</th>\n",
       "      <th>source</th>\n",
       "      <th>resolution_time</th>\n",
       "      <th>open_year</th>\n",
       "      <th>open_month</th>\n",
       "      <th>open_day</th>\n",
       "      <th>open_hour</th>\n",
       "      <th>open_minute</th>\n",
       "      <th>open_dayofweek</th>\n",
       "      <th>open_dayofyear</th>\n",
       "      <th>open_quarter</th>\n",
       "    </tr>\n",
       "  </thead>\n",
       "  <tbody>\n",
       "    <tr>\n",
       "      <th>0</th>\n",
       "      <td>101000295613</td>\n",
       "      <td>2011-06-30 21:32:33</td>\n",
       "      <td>2011-07-14 21:32:32</td>\n",
       "      <td>2011-07-01 01:06:58</td>\n",
       "      <td>ONTIME</td>\n",
       "      <td>Closed</td>\n",
       "      <td>resolved</td>\n",
       "      <td>Street Light Outages</td>\n",
       "      <td>Public Works Department</td>\n",
       "      <td>Street Lights</td>\n",
       "      <td>...</td>\n",
       "      <td>Employee Generated</td>\n",
       "      <td>0.148900</td>\n",
       "      <td>2011</td>\n",
       "      <td>6</td>\n",
       "      <td>30</td>\n",
       "      <td>21</td>\n",
       "      <td>32</td>\n",
       "      <td>3</td>\n",
       "      <td>181</td>\n",
       "      <td>2</td>\n",
       "    </tr>\n",
       "    <tr>\n",
       "      <th>1</th>\n",
       "      <td>101000295614</td>\n",
       "      <td>2011-06-30 22:18:31</td>\n",
       "      <td>2011-07-04 22:18:31</td>\n",
       "      <td>2011-07-01 02:12:43</td>\n",
       "      <td>ONTIME</td>\n",
       "      <td>Closed</td>\n",
       "      <td>closed</td>\n",
       "      <td>Schedule a Bulk Item Pickup</td>\n",
       "      <td>Public Works Department</td>\n",
       "      <td>Sanitation</td>\n",
       "      <td>...</td>\n",
       "      <td>Self Service</td>\n",
       "      <td>0.162639</td>\n",
       "      <td>2011</td>\n",
       "      <td>6</td>\n",
       "      <td>30</td>\n",
       "      <td>22</td>\n",
       "      <td>18</td>\n",
       "      <td>3</td>\n",
       "      <td>181</td>\n",
       "      <td>2</td>\n",
       "    </tr>\n",
       "    <tr>\n",
       "      <th>2</th>\n",
       "      <td>101000295615</td>\n",
       "      <td>2011-06-30 22:28:04</td>\n",
       "      <td>2011-08-14 22:28:04</td>\n",
       "      <td>2011-08-01 11:21:46</td>\n",
       "      <td>ONTIME</td>\n",
       "      <td>Closed</td>\n",
       "      <td>resolved</td>\n",
       "      <td>New Sign  Crosswalk or Pavement Marking</td>\n",
       "      <td>Transportation - Traffic Division</td>\n",
       "      <td>Signs &amp; Signals</td>\n",
       "      <td>...</td>\n",
       "      <td>Self Service</td>\n",
       "      <td>31.537292</td>\n",
       "      <td>2011</td>\n",
       "      <td>6</td>\n",
       "      <td>30</td>\n",
       "      <td>22</td>\n",
       "      <td>28</td>\n",
       "      <td>3</td>\n",
       "      <td>181</td>\n",
       "      <td>2</td>\n",
       "    </tr>\n",
       "    <tr>\n",
       "      <th>3</th>\n",
       "      <td>101000295616</td>\n",
       "      <td>2011-06-30 23:03:48</td>\n",
       "      <td>2011-07-14 23:03:48</td>\n",
       "      <td>2011-07-22 12:13:45</td>\n",
       "      <td>OVERDUE</td>\n",
       "      <td>Closed</td>\n",
       "      <td>resolved</td>\n",
       "      <td>Street Light Outages</td>\n",
       "      <td>Public Works Department</td>\n",
       "      <td>Street Lights</td>\n",
       "      <td>...</td>\n",
       "      <td>Self Service</td>\n",
       "      <td>21.548576</td>\n",
       "      <td>2011</td>\n",
       "      <td>6</td>\n",
       "      <td>30</td>\n",
       "      <td>23</td>\n",
       "      <td>3</td>\n",
       "      <td>3</td>\n",
       "      <td>181</td>\n",
       "      <td>2</td>\n",
       "    </tr>\n",
       "    <tr>\n",
       "      <th>4</th>\n",
       "      <td>101000295617</td>\n",
       "      <td>2011-06-30 23:12:31</td>\n",
       "      <td>NaN</td>\n",
       "      <td>2011-07-01 02:12:38</td>\n",
       "      <td>ONTIME</td>\n",
       "      <td>Closed</td>\n",
       "      <td>resolved</td>\n",
       "      <td>Highway Maintenance</td>\n",
       "      <td>Public Works Department</td>\n",
       "      <td>Highway Maintenance</td>\n",
       "      <td>...</td>\n",
       "      <td>Constituent Call</td>\n",
       "      <td>0.125081</td>\n",
       "      <td>2011</td>\n",
       "      <td>6</td>\n",
       "      <td>30</td>\n",
       "      <td>23</td>\n",
       "      <td>12</td>\n",
       "      <td>3</td>\n",
       "      <td>181</td>\n",
       "      <td>2</td>\n",
       "    </tr>\n",
       "  </tbody>\n",
       "</table>\n",
       "<p>5 rows × 34 columns</p>\n",
       "</div>"
      ],
      "text/plain": [
       "   case_enquiry_id              open_dt        sla_target_dt  \\\n",
       "0     101000295613  2011-06-30 21:32:33  2011-07-14 21:32:32   \n",
       "1     101000295614  2011-06-30 22:18:31  2011-07-04 22:18:31   \n",
       "2     101000295615  2011-06-30 22:28:04  2011-08-14 22:28:04   \n",
       "3     101000295616  2011-06-30 23:03:48  2011-07-14 23:03:48   \n",
       "4     101000295617  2011-06-30 23:12:31                  NaN   \n",
       "\n",
       "             closed_dt  on_time case_status closure_reason  \\\n",
       "0  2011-07-01 01:06:58   ONTIME      Closed       resolved   \n",
       "1  2011-07-01 02:12:43   ONTIME      Closed         closed   \n",
       "2  2011-08-01 11:21:46   ONTIME      Closed       resolved   \n",
       "3  2011-07-22 12:13:45  OVERDUE      Closed       resolved   \n",
       "4  2011-07-01 02:12:38   ONTIME      Closed       resolved   \n",
       "\n",
       "                                case_title                            subject  \\\n",
       "0                     Street Light Outages            Public Works Department   \n",
       "1              Schedule a Bulk Item Pickup            Public Works Department   \n",
       "2  New Sign  Crosswalk or Pavement Marking  Transportation - Traffic Division   \n",
       "3                     Street Light Outages            Public Works Department   \n",
       "4                      Highway Maintenance            Public Works Department   \n",
       "\n",
       "                reason  ...              source resolution_time open_year  \\\n",
       "0        Street Lights  ...  Employee Generated        0.148900      2011   \n",
       "1           Sanitation  ...        Self Service        0.162639      2011   \n",
       "2      Signs & Signals  ...        Self Service       31.537292      2011   \n",
       "3        Street Lights  ...        Self Service       21.548576      2011   \n",
       "4  Highway Maintenance  ...    Constituent Call        0.125081      2011   \n",
       "\n",
       "  open_month open_day open_hour open_minute open_dayofweek open_dayofyear  \\\n",
       "0          6       30        21          32              3            181   \n",
       "1          6       30        22          18              3            181   \n",
       "2          6       30        22          28              3            181   \n",
       "3          6       30        23           3              3            181   \n",
       "4          6       30        23          12              3            181   \n",
       "\n",
       "  open_quarter  \n",
       "0            2  \n",
       "1            2  \n",
       "2            2  \n",
       "3            2  \n",
       "4            2  \n",
       "\n",
       "[5 rows x 34 columns]"
      ]
     },
     "execution_count": 5,
     "metadata": {},
     "output_type": "execute_result"
    }
   ],
   "source": [
    "df = pd.read_csv(\"../../../../PBI Script/modified_dates_311.csv\")\n",
    "df.head()"
   ]
  },
  {
   "cell_type": "code",
   "execution_count": 6,
   "metadata": {},
   "outputs": [
    {
     "data": {
      "text/plain": [
       "case_enquiry_id                         0\n",
       "open_dt                                 0\n",
       "sla_target_dt                      451546\n",
       "closed_dt                          195432\n",
       "on_time                               671\n",
       "case_status                             0\n",
       "closure_reason                          0\n",
       "case_title                            544\n",
       "subject                                 0\n",
       "reason                                  0\n",
       "type                                    0\n",
       "queue                                   0\n",
       "department                              0\n",
       "submitted_photo                   2705520\n",
       "closed_photo                      2459572\n",
       "location                                0\n",
       "fire_district                        5591\n",
       "pwd_district                         1367\n",
       "city_council_district                 302\n",
       "police_district                      1087\n",
       "neighborhood                         2652\n",
       "neighborhood_services_district        308\n",
       "ward                                  180\n",
       "precinct                             1726\n",
       "location_street_name                54755\n",
       "location_zipcode                   614110\n",
       "latitude                            44020\n",
       "longitude                           44020\n",
       "geom_4326                           44020\n",
       "source                                  0\n",
       "dtype: int64"
      ]
     },
     "execution_count": 6,
     "metadata": {},
     "output_type": "execute_result"
    }
   ],
   "source": [
    "original_df.isnull().sum()"
   ]
  },
  {
   "cell_type": "code",
   "execution_count": 8,
   "metadata": {},
   "outputs": [
    {
     "data": {
      "text/plain": [
       "case_enquiry_id                        0\n",
       "open_dt                                0\n",
       "sla_target_dt                     451546\n",
       "closed_dt                         195432\n",
       "on_time                              671\n",
       "case_status                            0\n",
       "closure_reason                         0\n",
       "case_title                           544\n",
       "subject                                0\n",
       "reason                                 0\n",
       "type                                   0\n",
       "queue                                  0\n",
       "department                             0\n",
       "fire_district                       5591\n",
       "pwd_district                        1367\n",
       "city_council_district                302\n",
       "police_district                     1087\n",
       "neighborhood                           0\n",
       "neighborhood_services_district       308\n",
       "ward                                 180\n",
       "precinct                            1726\n",
       "location_zipcode                       0\n",
       "latitude                           44020\n",
       "longitude                          44020\n",
       "source                                 0\n",
       "resolution_time                   195432\n",
       "open_year                              0\n",
       "open_month                             0\n",
       "open_day                               0\n",
       "open_hour                              0\n",
       "open_minute                            0\n",
       "open_dayofweek                         0\n",
       "open_dayofyear                         0\n",
       "open_quarter                           0\n",
       "dtype: int64"
      ]
     },
     "execution_count": 8,
     "metadata": {},
     "output_type": "execute_result"
    }
   ],
   "source": [
    "df.isnull().sum()"
   ]
  },
  {
   "cell_type": "code",
   "execution_count": 9,
   "metadata": {},
   "outputs": [
    {
     "data": {
      "text/plain": [
       "Index(['case_enquiry_id', 'open_dt', 'sla_target_dt', 'closed_dt', 'on_time',\n",
       "       'case_status', 'closure_reason', 'case_title', 'subject', 'reason',\n",
       "       'type', 'queue', 'department', 'fire_district', 'pwd_district',\n",
       "       'city_council_district', 'police_district', 'neighborhood',\n",
       "       'neighborhood_services_district', 'ward', 'precinct',\n",
       "       'location_zipcode', 'latitude', 'longitude', 'source',\n",
       "       'resolution_time', 'open_year', 'open_month', 'open_day', 'open_hour',\n",
       "       'open_minute', 'open_dayofweek', 'open_dayofyear', 'open_quarter'],\n",
       "      dtype='object')"
      ]
     },
     "execution_count": 9,
     "metadata": {},
     "output_type": "execute_result"
    }
   ],
   "source": [
    "df.columns"
   ]
  },
  {
   "cell_type": "code",
   "execution_count": 10,
   "metadata": {},
   "outputs": [
    {
     "name": "stdout",
     "output_type": "stream",
     "text": [
      "open_year\n",
      "2011     3580\n",
      "2012     6168\n",
      "2013     6312\n",
      "2014    11636\n",
      "2015    15089\n",
      "2016    12856\n",
      "2017    12594\n",
      "2018    19510\n",
      "2019    23322\n",
      "2020    20275\n",
      "2021    19712\n",
      "2022    21029\n",
      "2023    23349\n",
      "Name: closed_dt, dtype: int64\n",
      "Total null values:  195432\n",
      "Original counts:  open_year\n",
      "2011     58262\n",
      "2012    118092\n",
      "2013    142610\n",
      "2014    147820\n",
      "2015    210083\n",
      "2016    216535\n",
      "2017    251269\n",
      "2018    262748\n",
      "2019    259022\n",
      "2020    251222\n",
      "2021    273784\n",
      "2022    276599\n",
      "2023    240602\n",
      "Name: closed_dt, dtype: int64\n"
     ]
    }
   ],
   "source": [
    "#plot the distribution of null values against years\n",
    "variable = 'closed_dt'  # Replace 'latitude' with the variable you choose\n",
    "grouping = 'open_year'\n",
    "\n",
    "# Counting null values for the chosen variable grouped by 'open_year'\n",
    "#null_df = df[df[variable]==0].groupby(grouping)[variable]\n",
    "null_df = df[df[variable].isnull()].groupby(grouping)[variable]\n",
    "null_counts = null_df.size()\n",
    "\n",
    "# Print the null counts\n",
    "print(null_counts)\n",
    "# Print total null count\n",
    "print('Total null values: ', null_counts.sum())\n",
    "# Print original count of grouping\n",
    "print('Original counts: ', df.groupby(grouping)[variable].size())\n"
   ]
  },
  {
   "cell_type": "code",
   "execution_count": 11,
   "metadata": {},
   "outputs": [
    {
     "data": {
      "image/png": "[encoded data removed]",
      "text/plain": [
       "<Figure size 1000x600 with 1 Axes>"
      ]
     },
     "metadata": {},
     "output_type": "display_data"
    }
   ],
   "source": [
    "# Plotting\n",
    "plt.figure(figsize=(10, 6))\n",
    "null_counts.plot(kind='bar')\n",
    "plt.title(f'Null Values in {variable} across Different {grouping}')\n",
    "plt.xlabel(f'{grouping}')\n",
    "plt.ylabel('Number of Null Values')\n",
    "# Show count of null values on top of each bar\n",
    "for i, v in enumerate(null_counts):\n",
    "    plt.text(i, v + 10, str(v), ha='center')\n",
    "plt.show()"
   ]
  },
  {
   "cell_type": "code",
   "execution_count": 12,
   "metadata": {},
   "outputs": [],
   "source": [
    "from datetime import datetime, timedelta\n",
    "\n",
    "# Convert open_dt, closed_dt, and sla_target_dt to datetime\n",
    "df['open_dt'] = pd.to_datetime(df['open_dt'])\n",
    "df['closed_dt'] = pd.to_datetime(df['closed_dt'])\n",
    "df['sla_target_dt'] = pd.to_datetime(df['sla_target_dt'])\n",
    "\n",
    "# convert resolution time to timedelta\n",
    "df['resolution_time'] = df['closed_dt'] - df['open_dt']\n",
    "df.loc[df['resolution_time'] < timedelta(0),'resolution_time'] = timedelta(seconds=0) # replace negative resolution times with 0\n",
    "df['resolution_time'] = df['resolution_time'].dt.total_seconds() / 86400\n",
    "\n",
    "# Get sla_delta\n",
    "df['sla_delta'] = df['sla_target_dt'] - df['open_dt']\n",
    "df.loc[df['sla_delta'] < timedelta(0),'sla_delta'] = timedelta(seconds=0) # replace negative sla_deltas with 0\n",
    "df['sla_delta'] = df['sla_delta'].dt.total_seconds() / 86400"
   ]
  },
  {
   "cell_type": "code",
   "execution_count": 13,
   "metadata": {},
   "outputs": [
    {
     "data": {
      "text/plain": [
       "count    2.257102e+06\n",
       "mean     4.007822e+01\n",
       "std      2.140312e+02\n",
       "min      0.000000e+00\n",
       "25%      1.443113e+00\n",
       "50%      3.000370e+00\n",
       "75%      1.400060e+01\n",
       "max      1.796374e+04\n",
       "Name: sla_delta, dtype: float64"
      ]
     },
     "execution_count": 13,
     "metadata": {},
     "output_type": "execute_result"
    }
   ],
   "source": [
    "df['sla_delta'].describe()"
   ]
  },
  {
   "cell_type": "code",
   "execution_count": 24,
   "metadata": {},
   "outputs": [
    {
     "name": "stdout",
     "output_type": "stream",
     "text": [
      "(2257102, 35)\n",
      "count    2.257102e+06\n",
      "mean     4.007822e+01\n",
      "std      2.140312e+02\n",
      "min      0.000000e+00\n",
      "25%      1.443113e+00\n",
      "50%      3.000370e+00\n",
      "75%      1.400060e+01\n",
      "max      1.796374e+04\n",
      "Name: sla_delta, dtype: float64\n"
     ]
    }
   ],
   "source": [
    "# Sample the data if it's too large\n",
    "sampled_df = df[df['sla_delta'].notnull()].sample(frac=1)\n",
    "print(sampled_df.shape)\n",
    "print(sampled_df['sla_delta'].describe())"
   ]
  },
  {
   "cell_type": "code",
   "execution_count": 25,
   "metadata": {},
   "outputs": [
    {
     "data": {
      "image/png": "[encoded data removed]",
      "text/plain": [
       "<Figure size 1000x600 with 1 Axes>"
      ]
     },
     "metadata": {},
     "output_type": "display_data"
    }
   ],
   "source": [
    "# Adjust the fraction as necessary\n",
    "# Use histplot with optimized parameters\n",
    "plt.figure(figsize=(10, 6))\n",
    "sns.histplot(sampled_df['sla_delta'], binwidth=1)  # Adjust binwidth as necessary\n",
    "plt.title('Distribution of SLA Delta')\n",
    "plt.xlabel('SLA Delta (days)')\n",
    "plt.ylabel('Frequency')\n",
    "# log scale on x-axis\n",
    "plt.xscale('log')\n",
    "# show count of values on top of each bar\n",
    "# for i, v in enumerate(sampled_df['sla_delta'].value_counts()):\n",
    "#     plt.text(i, v + 10, str(v), ha='center')\n",
    "plt.show()"
   ]
  },
  {
   "cell_type": "code",
   "execution_count": 26,
   "metadata": {},
   "outputs": [
    {
     "name": "stderr",
     "output_type": "stream",
     "text": [
      "c:\\Users\\kmfoc\\anaconda3\\lib\\site-packages\\pandas\\core\\arraylike.py:397: RuntimeWarning: divide by zero encountered in log10\n",
      "  result = getattr(ufunc, method)(*inputs, **kwargs)\n"
     ]
    }
   ],
   "source": [
    "# Get log order, if zero, set to 0, and round to floor\n",
    "sampled_df['log_sla_delta'] = np.log10(df['sla_delta'])\n",
    "sampled_df.loc[sampled_df['log_sla_delta'] == -np.inf, 'log_sla_delta'] = 0\n",
    "sampled_df['log_sla_delta'] = sampled_df['log_sla_delta'].apply(np.floor)"
   ]
  },
  {
   "cell_type": "code",
   "execution_count": 27,
   "metadata": {},
   "outputs": [
    {
     "data": {
      "image/png": "[encoded data removed]",
      "text/plain": [
       "<Figure size 1000x600 with 1 Axes>"
      ]
     },
     "metadata": {},
     "output_type": "display_data"
    }
   ],
   "source": [
    "plt.figure(figsize=(10, 6))\n",
    "# Calculate the value counts and sort by index (which is 'log_sla_delta' here)\n",
    "value_counts = sampled_df['log_sla_delta'].value_counts().sort_index()\n",
    "sns.countplot(x='log_sla_delta', data=sampled_df, order=value_counts.index)\n",
    "plt.title('Distribution of Log SLA Delta')\n",
    "plt.xlabel('Log SLA Delta')\n",
    "plt.ylabel('Frequency')\n",
    "\n",
    "# Annotate the bars with the value counts\n",
    "for index, value in zip(value_counts.index, value_counts):\n",
    "    # Find the position of the bar based on the index, which is the x-axis label\n",
    "    bar_pos = plt.xticks()[0][list(value_counts.index).index(index)]\n",
    "    plt.text(bar_pos, value + 10, str(value), ha='center')\n",
    "\n",
    "plt.show()\n"
   ]
  },
  {
   "cell_type": "code",
   "execution_count": 28,
   "metadata": {},
   "outputs": [
    {
     "data": {
      "image/png": "[encoded data removed]",
      "text/plain": [
       "<Figure size 1200x800 with 1 Axes>"
      ]
     },
     "metadata": {},
     "output_type": "display_data"
    }
   ],
   "source": [
    "# Assuming 'department' is the column with department names and 'log_sla_delta' is already calculated\n",
    "plt.figure(figsize=(12, 8))  # You may need to adjust the figure size to fit all departments nicely\n",
    "sns.boxplot(x='source', y='log_sla_delta', data=sampled_df)\n",
    "plt.xticks(rotation=90)  # Rotates the department names for better visibility if there are many departments\n",
    "plt.title('Box Plot of Log SLA Delta Across Departments')\n",
    "plt.xlabel('Department')\n",
    "plt.ylabel('Log SLA Delta')\n",
    "plt.tight_layout()  # Adjusts the plot to ensure everything fits without overlapping\n",
    "plt.show()"
   ]
  },
  {
   "cell_type": "code",
   "execution_count": 29,
   "metadata": {},
   "outputs": [
    {
     "data": {
      "text/plain": [
       "Index(['case_enquiry_id', 'open_dt', 'sla_target_dt', 'closed_dt', 'on_time',\n",
       "       'case_status', 'closure_reason', 'case_title', 'subject', 'reason',\n",
       "       'type', 'queue', 'department', 'fire_district', 'pwd_district',\n",
       "       'city_council_district', 'police_district', 'neighborhood',\n",
       "       'neighborhood_services_district', 'ward', 'precinct',\n",
       "       'location_zipcode', 'latitude', 'longitude', 'source',\n",
       "       'resolution_time', 'open_year', 'open_month', 'open_day', 'open_hour',\n",
       "       'open_minute', 'open_dayofweek', 'open_dayofyear', 'open_quarter',\n",
       "       'sla_delta'],\n",
       "      dtype='object')"
      ]
     },
     "execution_count": 29,
     "metadata": {},
     "output_type": "execute_result"
    }
   ],
   "source": [
    "df.columns"
   ]
  },
  {
   "cell_type": "code",
   "execution_count": 31,
   "metadata": {},
   "outputs": [
    {
     "data": {
      "text/plain": [
       "Index(['case_enquiry_id', 'open_dt', 'closed_dt', 'on_time', 'case_status',\n",
       "       'closure_reason', 'case_title', 'subject', 'reason', 'type', 'queue',\n",
       "       'department', 'fire_district', 'pwd_district', 'city_council_district',\n",
       "       'police_district', 'neighborhood', 'neighborhood_services_district',\n",
       "       'ward', 'precinct', 'location_zipcode', 'latitude', 'longitude',\n",
       "       'source', 'resolution_time', 'open_year', 'open_month', 'open_day',\n",
       "       'open_hour', 'open_minute', 'open_dayofweek', 'open_dayofyear',\n",
       "       'open_quarter'],\n",
       "      dtype='object')"
      ]
     },
     "execution_count": 31,
     "metadata": {},
     "output_type": "execute_result"
    }
   ],
   "source": [
    "# executive decision to drop the sla_target_dt column\n",
    "df = df.drop(columns=['sla_target_dt', 'sla_delta'])\n",
    "df.columns\n"
   ]
  },
  {
   "cell_type": "code",
   "execution_count": 32,
   "metadata": {},
   "outputs": [
    {
     "data": {
      "text/plain": [
       "case_enquiry_id                        0\n",
       "open_dt                                0\n",
       "closed_dt                         195432\n",
       "on_time                              671\n",
       "case_status                            0\n",
       "closure_reason                         0\n",
       "case_title                           544\n",
       "subject                                0\n",
       "reason                                 0\n",
       "type                                   0\n",
       "queue                                  0\n",
       "department                             0\n",
       "fire_district                       5591\n",
       "pwd_district                        1367\n",
       "city_council_district                302\n",
       "police_district                     1087\n",
       "neighborhood                           0\n",
       "neighborhood_services_district       308\n",
       "ward                                 180\n",
       "precinct                            1726\n",
       "location_zipcode                       0\n",
       "latitude                           44020\n",
       "longitude                          44020\n",
       "source                                 0\n",
       "resolution_time                   195432\n",
       "open_year                              0\n",
       "open_month                             0\n",
       "open_day                               0\n",
       "open_hour                              0\n",
       "open_minute                            0\n",
       "open_dayofweek                         0\n",
       "open_dayofyear                         0\n",
       "open_quarter                           0\n",
       "dtype: int64"
      ]
     },
     "execution_count": 32,
     "metadata": {},
     "output_type": "execute_result"
    }
   ],
   "source": [
    "df.isnull().sum()"
   ]
  },
  {
   "cell_type": "code",
   "execution_count": 33,
   "metadata": {},
   "outputs": [
    {
     "name": "stdout",
     "output_type": "stream",
     "text": [
      "neighborhood\n",
      "Boston                 1\n",
      "Brighton               1\n",
      "Charlestown            2\n",
      "Dorchester             2\n",
      "Hyde Park              2\n",
      "No Neighborhood    54745\n",
      "Roxbury                1\n",
      "South Boston           1\n",
      "Name: neighborhood_services_district, dtype: int64\n",
      "Total null values:  54755\n"
     ]
    }
   ],
   "source": [
    "#plot the distribution of null values against years\n",
    "variable = 'neighborhood_services_district'  # Replace 'latitude' with the variable you choose\n",
    "grouping = 'neighborhood'\n",
    "\n",
    "# Counting null values for the chosen variable grouped by 'open_year'\n",
    "null_df = df[df[variable]==' '].groupby(grouping)[variable]\n",
    "#null_df = df[df[variable].isnull()].groupby(grouping)[variable]\n",
    "null_counts = null_df.size()\n",
    "\n",
    "# Print the null counts\n",
    "print(null_counts)\n",
    "# Print total null count\n",
    "print('Total null values: ', null_counts.sum())"
   ]
  },
  {
   "cell_type": "code",
   "execution_count": 34,
   "metadata": {},
   "outputs": [
    {
     "data": {
      "text/html": [
       "<div>\n",
       "<style scoped>\n",
       "    .dataframe tbody tr th:only-of-type {\n",
       "        vertical-align: middle;\n",
       "    }\n",
       "\n",
       "    .dataframe tbody tr th {\n",
       "        vertical-align: top;\n",
       "    }\n",
       "\n",
       "    .dataframe thead th {\n",
       "        text-align: right;\n",
       "    }\n",
       "</style>\n",
       "<table border=\"1\" class=\"dataframe\">\n",
       "  <thead>\n",
       "    <tr style=\"text-align: right;\">\n",
       "      <th></th>\n",
       "      <th>case_enquiry_id</th>\n",
       "      <th>open_dt</th>\n",
       "      <th>closed_dt</th>\n",
       "      <th>on_time</th>\n",
       "      <th>case_status</th>\n",
       "      <th>closure_reason</th>\n",
       "      <th>case_title</th>\n",
       "      <th>subject</th>\n",
       "      <th>reason</th>\n",
       "      <th>type</th>\n",
       "      <th>...</th>\n",
       "      <th>source</th>\n",
       "      <th>resolution_time</th>\n",
       "      <th>open_year</th>\n",
       "      <th>open_month</th>\n",
       "      <th>open_day</th>\n",
       "      <th>open_hour</th>\n",
       "      <th>open_minute</th>\n",
       "      <th>open_dayofweek</th>\n",
       "      <th>open_dayofyear</th>\n",
       "      <th>open_quarter</th>\n",
       "    </tr>\n",
       "  </thead>\n",
       "  <tbody>\n",
       "    <tr>\n",
       "      <th>127</th>\n",
       "      <td>101000295752</td>\n",
       "      <td>2011-07-01 05:10:34</td>\n",
       "      <td>2011-07-01 08:29:01</td>\n",
       "      <td>ONTIME</td>\n",
       "      <td>Closed</td>\n",
       "      <td>noted</td>\n",
       "      <td>Other: Compliment</td>\n",
       "      <td>Mayor's 24 Hour Hotline</td>\n",
       "      <td>Employee &amp; General Comments</td>\n",
       "      <td>General Comments For a Program or Policy</td>\n",
       "      <td>...</td>\n",
       "      <td>Constituent Call</td>\n",
       "      <td>0.137813</td>\n",
       "      <td>2011</td>\n",
       "      <td>7</td>\n",
       "      <td>1</td>\n",
       "      <td>5</td>\n",
       "      <td>10</td>\n",
       "      <td>4</td>\n",
       "      <td>182</td>\n",
       "      <td>3</td>\n",
       "    </tr>\n",
       "    <tr>\n",
       "      <th>249</th>\n",
       "      <td>101000295886</td>\n",
       "      <td>2011-07-01 07:18:54</td>\n",
       "      <td>2011-07-01 07:22:14</td>\n",
       "      <td>ONTIME</td>\n",
       "      <td>Closed</td>\n",
       "      <td>noted</td>\n",
       "      <td>General Comments For a Program or Policy</td>\n",
       "      <td>Mayor's 24 Hour Hotline</td>\n",
       "      <td>Employee &amp; General Comments</td>\n",
       "      <td>General Comments For a Program or Policy</td>\n",
       "      <td>...</td>\n",
       "      <td>Constituent Call</td>\n",
       "      <td>0.002315</td>\n",
       "      <td>2011</td>\n",
       "      <td>7</td>\n",
       "      <td>1</td>\n",
       "      <td>7</td>\n",
       "      <td>18</td>\n",
       "      <td>4</td>\n",
       "      <td>182</td>\n",
       "      <td>3</td>\n",
       "    </tr>\n",
       "    <tr>\n",
       "      <th>289</th>\n",
       "      <td>101000295934</td>\n",
       "      <td>2011-07-01 09:05:06</td>\n",
       "      <td>2011-07-25 07:32:41</td>\n",
       "      <td>OVERDUE</td>\n",
       "      <td>Closed</td>\n",
       "      <td>resolved</td>\n",
       "      <td>BTDT: Complaint</td>\n",
       "      <td>Mayor's 24 Hour Hotline</td>\n",
       "      <td>Employee &amp; General Comments</td>\n",
       "      <td>General Comments For a Program or Policy</td>\n",
       "      <td>...</td>\n",
       "      <td>Constituent Call</td>\n",
       "      <td>23.935822</td>\n",
       "      <td>2011</td>\n",
       "      <td>7</td>\n",
       "      <td>1</td>\n",
       "      <td>9</td>\n",
       "      <td>5</td>\n",
       "      <td>4</td>\n",
       "      <td>182</td>\n",
       "      <td>3</td>\n",
       "    </tr>\n",
       "    <tr>\n",
       "      <th>305</th>\n",
       "      <td>101000295953</td>\n",
       "      <td>2011-07-01 09:53:15</td>\n",
       "      <td>2011-07-27 06:28:40</td>\n",
       "      <td>ONTIME</td>\n",
       "      <td>Closed</td>\n",
       "      <td>novio</td>\n",
       "      <td>Rodent Activity</td>\n",
       "      <td>Inspectional Services</td>\n",
       "      <td>Environmental Services</td>\n",
       "      <td>Rodent Activity</td>\n",
       "      <td>...</td>\n",
       "      <td>Constituent Call</td>\n",
       "      <td>25.857928</td>\n",
       "      <td>2011</td>\n",
       "      <td>7</td>\n",
       "      <td>1</td>\n",
       "      <td>9</td>\n",
       "      <td>53</td>\n",
       "      <td>4</td>\n",
       "      <td>182</td>\n",
       "      <td>3</td>\n",
       "    </tr>\n",
       "    <tr>\n",
       "      <th>306</th>\n",
       "      <td>101000295954</td>\n",
       "      <td>2011-07-01 09:58:00</td>\n",
       "      <td>2017-05-07 02:40:28</td>\n",
       "      <td>OVERDUE</td>\n",
       "      <td>Closed</td>\n",
       "      <td>duplicate</td>\n",
       "      <td>Park Maintenace: Gladeside II</td>\n",
       "      <td>Parks &amp; Recreation Department</td>\n",
       "      <td>Park Maintenance &amp; Safety</td>\n",
       "      <td>Park Maintenance Requests</td>\n",
       "      <td>...</td>\n",
       "      <td>Constituent Call</td>\n",
       "      <td>2136.696157</td>\n",
       "      <td>2011</td>\n",
       "      <td>7</td>\n",
       "      <td>1</td>\n",
       "      <td>9</td>\n",
       "      <td>58</td>\n",
       "      <td>4</td>\n",
       "      <td>182</td>\n",
       "      <td>3</td>\n",
       "    </tr>\n",
       "  </tbody>\n",
       "</table>\n",
       "<p>5 rows × 33 columns</p>\n",
       "</div>"
      ],
      "text/plain": [
       "     case_enquiry_id             open_dt           closed_dt  on_time  \\\n",
       "127     101000295752 2011-07-01 05:10:34 2011-07-01 08:29:01   ONTIME   \n",
       "249     101000295886 2011-07-01 07:18:54 2011-07-01 07:22:14   ONTIME   \n",
       "289     101000295934 2011-07-01 09:05:06 2011-07-25 07:32:41  OVERDUE   \n",
       "305     101000295953 2011-07-01 09:53:15 2011-07-27 06:28:40   ONTIME   \n",
       "306     101000295954 2011-07-01 09:58:00 2017-05-07 02:40:28  OVERDUE   \n",
       "\n",
       "    case_status closure_reason                                case_title  \\\n",
       "127      Closed          noted                         Other: Compliment   \n",
       "249      Closed          noted  General Comments For a Program or Policy   \n",
       "289      Closed       resolved                           BTDT: Complaint   \n",
       "305      Closed          novio                           Rodent Activity   \n",
       "306      Closed      duplicate             Park Maintenace: Gladeside II   \n",
       "\n",
       "                           subject                       reason  \\\n",
       "127        Mayor's 24 Hour Hotline  Employee & General Comments   \n",
       "249        Mayor's 24 Hour Hotline  Employee & General Comments   \n",
       "289        Mayor's 24 Hour Hotline  Employee & General Comments   \n",
       "305          Inspectional Services       Environmental Services   \n",
       "306  Parks & Recreation Department    Park Maintenance & Safety   \n",
       "\n",
       "                                         type  ...            source  \\\n",
       "127  General Comments For a Program or Policy  ...  Constituent Call   \n",
       "249  General Comments For a Program or Policy  ...  Constituent Call   \n",
       "289  General Comments For a Program or Policy  ...  Constituent Call   \n",
       "305                           Rodent Activity  ...  Constituent Call   \n",
       "306                 Park Maintenance Requests  ...  Constituent Call   \n",
       "\n",
       "    resolution_time open_year open_month open_day open_hour open_minute  \\\n",
       "127        0.137813      2011          7        1         5          10   \n",
       "249        0.002315      2011          7        1         7          18   \n",
       "289       23.935822      2011          7        1         9           5   \n",
       "305       25.857928      2011          7        1         9          53   \n",
       "306     2136.696157      2011          7        1         9          58   \n",
       "\n",
       "    open_dayofweek open_dayofyear open_quarter  \n",
       "127              4            182            3  \n",
       "249              4            182            3  \n",
       "289              4            182            3  \n",
       "305              4            182            3  \n",
       "306              4            182            3  \n",
       "\n",
       "[5 rows x 33 columns]"
      ]
     },
     "execution_count": 34,
     "metadata": {},
     "output_type": "execute_result"
    }
   ],
   "source": [
    "# head of the variable with null\n",
    "df[df[variable]==\" \"].head()"
   ]
  },
  {
   "cell_type": "code",
   "execution_count": 35,
   "metadata": {},
   "outputs": [
    {
     "data": {
      "image/png": "[encoded data removed]",
      "text/plain": [
       "<Figure size 1000x600 with 1 Axes>"
      ]
     },
     "metadata": {},
     "output_type": "display_data"
    }
   ],
   "source": [
    "# Plotting\n",
    "plt.figure(figsize=(10, 6))\n",
    "null_counts.plot(kind='bar')\n",
    "plt.title(f'Null Values in {variable} across Different {grouping}')\n",
    "plt.xlabel(f'{grouping}')\n",
    "plt.ylabel('Number of Null Values')\n",
    "# Show count of null values on top of each bar\n",
    "for i, v in enumerate(null_counts):\n",
    "    plt.text(i, v + 10, str(v), ha='center')\n",
    "plt.show()"
   ]
  },
  {
   "cell_type": "code",
   "execution_count": 36,
   "metadata": {},
   "outputs": [
    {
     "data": {
      "text/plain": [
       "Index(['case_enquiry_id', 'open_dt', 'closed_dt', 'on_time', 'case_status',\n",
       "       'closure_reason', 'subject', 'reason', 'type', 'queue', 'department',\n",
       "       'fire_district', 'pwd_district', 'city_council_district',\n",
       "       'police_district', 'neighborhood', 'neighborhood_services_district',\n",
       "       'ward', 'precinct', 'location_zipcode', 'latitude', 'longitude',\n",
       "       'source', 'resolution_time', 'open_year', 'open_month', 'open_day',\n",
       "       'open_hour', 'open_minute', 'open_dayofweek', 'open_dayofyear',\n",
       "       'open_quarter'],\n",
       "      dtype='object')"
      ]
     },
     "execution_count": 36,
     "metadata": {},
     "output_type": "execute_result"
    }
   ],
   "source": [
    "df = df.drop(columns=['case_title'])\n",
    "df.columns"
   ]
  },
  {
   "cell_type": "code",
   "execution_count": 106,
   "metadata": {},
   "outputs": [
    {
     "data": {
      "text/plain": [
       "Index(['case_enquiry_id', 'open_dt', 'closed_dt', 'case_status',\n",
       "       'closure_reason', 'subject', 'reason', 'type', 'queue', 'department',\n",
       "       'fire_district', 'pwd_district', 'city_council_district',\n",
       "       'police_district', 'neighborhood', 'neighborhood_services_district',\n",
       "       'ward', 'precinct', 'location_zipcode', 'latitude', 'longitude',\n",
       "       'source', 'resolution_time', 'open_year', 'open_month', 'open_day',\n",
       "       'open_hour', 'open_minute', 'open_dayofweek', 'open_dayofyear',\n",
       "       'open_quarter'],\n",
       "      dtype='object')"
      ]
     },
     "execution_count": 106,
     "metadata": {},
     "output_type": "execute_result"
    }
   ],
   "source": [
    "##### DID NOT DROP\n",
    "df = df.drop(columns=['on_time'])\n",
    "df.columns"
   ]
  },
  {
   "cell_type": "code",
   "execution_count": 47,
   "metadata": {},
   "outputs": [
    {
     "data": {
      "text/plain": [
       "array([[<AxesSubplot:title={'center':'open_year'}>]], dtype=object)"
      ]
     },
     "execution_count": 47,
     "metadata": {},
     "output_type": "execute_result"
    },
    {
     "data": {
      "image/png": "[encoded data removed]",
      "text/plain": [
       "<Figure size 500x500 with 1 Axes>"
      ]
     },
     "metadata": {},
     "output_type": "display_data"
    }
   ],
   "source": [
    "# Count nan in  on time \n",
    "df[df[\"resolution_time\"].isnull()].hist(column='open_year', figsize=(5,5))"
   ]
  },
  {
   "cell_type": "code",
   "execution_count": 116,
   "metadata": {},
   "outputs": [],
   "source": [
    "df = df.drop(columns=['fire_district', 'pwd_district', 'police_district', 'ward', 'precinct'])"
   ]
  },
  {
   "cell_type": "code",
   "execution_count": 53,
   "metadata": {},
   "outputs": [
    {
     "data": {
      "image/png": "[encoded data removed]",
      "text/plain": [
       "<Figure size 1200x800 with 2 Axes>"
      ]
     },
     "metadata": {},
     "output_type": "display_data"
    }
   ],
   "source": [
    "# Grouping the dat\n",
    "grouped_data = df.groupby(['neighborhood', 'precinct']).size().unstack(fill_value=0)\n",
    "\n",
    "# Plotting a heatmap\n",
    "plt.figure(figsize=(12, 8))\n",
    "sns.heatmap(grouped_data, annot =False, cmap='viridis')\n",
    "plt.title('Neighborhoods and Their Associated Fire Districts')\n",
    "plt.xlabel('')\n",
    "plt.ylabel('Neighborhood')\n",
    "plt.show()\n"
   ]
  },
  {
   "cell_type": "code",
   "execution_count": 61,
   "metadata": {},
   "outputs": [
    {
     "name": "stdout",
     "output_type": "stream",
     "text": [
      "['8' '12' nan '7' '9' '4' '6' '11' '1' '3' '-1' '5' '10']\n"
     ]
    }
   ],
   "source": [
    "print(df['fire_district'].unique())\n",
    "# Change \" \" and \"nan\" to -1\n",
    "df['fire_district'] = df['fire_district'].replace(\" \", \"-1\")\n",
    "df['fire_district'] = df['fire_district'].fillna(\"-1\")\n",
    "print(df['fire_district'].unique())"
   ]
  },
  {
   "cell_type": "code",
   "execution_count": 62,
   "metadata": {},
   "outputs": [
    {
     "name": "stdout",
     "output_type": "stream",
     "text": [
      "['8' '12' '-1' '7' '9' '4' '6' '11' '1' '3' '5' '10']\n"
     ]
    }
   ],
   "source": [
    "print(df['fire_district'].unique())"
   ]
  },
  {
   "cell_type": "code",
   "execution_count": 64,
   "metadata": {},
   "outputs": [
    {
     "name": "stdout",
     "output_type": "stream",
     "text": [
      "['ONTIME' 'OVERDUE' nan]\n",
      "['ONTIME' 'OVERDUE' 'NO LABEL']\n"
     ]
    }
   ],
   "source": [
    "target = \"on_time\"\n",
    "print(df[target].unique())\n",
    "# Change \" \" and \"nan\" to -1\n",
    "df[target] = df[target].fillna(\"NO LABEL\")\n",
    "print(df[target].unique())"
   ]
  },
  {
   "cell_type": "code",
   "execution_count": 67,
   "metadata": {},
   "outputs": [
    {
     "name": "stdout",
     "output_type": "stream",
     "text": [
      "['3' '5' '6' '8' '7' '2' '9' '4' '1' ' ' '0' '-1']\n",
      "['3' '5' '6' '8' '7' '2' '9' '4' '1' '-1' '0']\n"
     ]
    }
   ],
   "source": [
    "target = \"city_council_district\"\n",
    "print(df[target].unique())\n",
    "# Change \" \" and \"nan\" to -1\n",
    "df[target] = df[target].replace(\" \", \"-1\")\n",
    "df[target] = df[target].fillna(\"-1\")\n",
    "print(df[target].unique())"
   ]
  },
  {
   "cell_type": "code",
   "execution_count": 69,
   "metadata": {},
   "outputs": [
    {
     "name": "stdout",
     "output_type": "stream",
     "text": [
      "['B3' 'E5' 'E18' 'C11' 'E13' 'D4' 'C6' 'A1' 'B2' 'D14' 'A7' 'A15' ' ' nan\n",
      " 'D-14' 'C-11' 'B-2' 'A-15' 'D-4' 'E-13' 'C-6' 'E-5' 'B-3' 'E-18' 'A-7']\n",
      "['B3' 'E5' 'E18' 'C11' 'E13' 'D4' 'C6' 'A1' 'B2' 'D14' 'A7' 'A15' '-1'\n",
      " 'D-14' 'C-11' 'B-2' 'A-15' 'D-4' 'E-13' 'C-6' 'E-5' 'B-3' 'E-18' 'A-7']\n"
     ]
    }
   ],
   "source": [
    "target = \"police_district\"\n",
    "print(df[target].unique())\n",
    "# Change \" \" and \"nan\" to -1\n",
    "df[target] = df[target].replace(\" \", \"-1\")\n",
    "df[target] = df[target].fillna(\"-1\")\n",
    "print(df[target].unique())"
   ]
  },
  {
   "cell_type": "code",
   "execution_count": 71,
   "metadata": {},
   "outputs": [
    {
     "name": "stdout",
     "output_type": "stream",
     "text": [
      "['7' '10' '12' '11' '14' '13' '5' '6' '15' '9' '8' '1' '3' '2' '4' ' ' '0'\n",
      " nan]\n",
      "['7' '10' '12' '11' '14' '13' '5' '6' '15' '9' '8' '1' '3' '2' '4' '-1'\n",
      " '0']\n"
     ]
    }
   ],
   "source": [
    "target = \"neighborhood_services_district\"\n",
    "print(df[target].unique())\n",
    "# Change \" \" and \"nan\" to -1\n",
    "df[target] = df[target].replace(\" \", \"-1\")\n",
    "df[target] = df[target].fillna(\"-1\")\n",
    "print(df[target].unique())"
   ]
  },
  {
   "cell_type": "code",
   "execution_count": 73,
   "metadata": {},
   "outputs": [
    {
     "name": "stdout",
     "output_type": "stream",
     "text": [
      "['Ward 17' 'Ward 20' 'Ward 18' 'Ward 13' 'Ward 10' 'Ward 21' 'Ward 11'\n",
      " 'Ward 16' 'Ward 7' 'Ward 5' 'Ward 9' '06' 'Ward 22' '10' 'Ward 1'\n",
      " 'Ward 8' 'Ward 19' 'Ward 6' 'Ward 3' '03' 'Ward 2' '07' '01' ' '\n",
      " 'Ward 15' '16' 'Ward 14' 'Ward 12' '12' 'Ward 4' '11' '21' '09' '22' '04'\n",
      " '20' '14' '18' '05' '02' '13' '17' '15' '19' nan '08' '3' '8' '5' '1' '2'\n",
      " '7' '4' '6' '9' '0' '00']\n",
      "['Ward 17' 'Ward 20' 'Ward 18' 'Ward 13' 'Ward 10' 'Ward 21' 'Ward 11'\n",
      " 'Ward 16' 'Ward 7' 'Ward 5' 'Ward 9' '06' 'Ward 22' '10' 'Ward 1'\n",
      " 'Ward 8' 'Ward 19' 'Ward 6' 'Ward 3' '03' 'Ward 2' '07' '01' '-1'\n",
      " 'Ward 15' '16' 'Ward 14' 'Ward 12' '12' 'Ward 4' '11' '21' '09' '22' '04'\n",
      " '20' '14' '18' '05' '02' '13' '17' '15' '19' '08' '3' '8' '5' '1' '2' '7'\n",
      " '4' '6' '9' '0' '00']\n"
     ]
    }
   ],
   "source": [
    "target = \"ward\"\n",
    "print(df[target].unique())\n",
    "# Change \" \" and \"nan\" to -1\n",
    "df[target] = df[target].replace(\" \", \"-1\")\n",
    "df[target] = df[target].fillna(\"-1\")\n",
    "print(df[target].unique())"
   ]
  },
  {
   "cell_type": "code",
   "execution_count": 75,
   "metadata": {},
   "outputs": [
    {
     "name": "stdout",
     "output_type": "stream",
     "text": [
      "['1714' '2008' '2017' '1816' '1309' '1006' '2102' '1103' '1602' '0701'\n",
      " '1817' '0501' '1810' '0905' '2019' '0606' '2211' '1801' '1009' '1711'\n",
      " '1611' '1606' '1612' '1713' '1821' '1803' '1608' '0710' '1310' '1306'\n",
      " '0510' '1819' '0705' '0101' '0807' '1813' '1908' '0604' '0306' '0201'\n",
      " '0506' '0303' '0508' '0308' '0301' '2213' '2012' '1106' '2203' '0111'\n",
      " '0708' '1308' '2204' '0202' '2013' '1906' '0112' '0113' '0103' '0102'\n",
      " '0110' '2020' '1007' ' ' '0104' '0504' '1509' '1807' '1101' '1605' '0108'\n",
      " '2011' '1411' '1414' '2206' '1402' '1206' '0304' '1109' '1107' '0402'\n",
      " '1302' '1610' '1003' '1712' '1907' '1912' '1108' '0804' '0503' '1105'\n",
      " '1901' '1902' '1904' '1203' '1504' '1609' '1405' '1401' '1412' '0603'\n",
      " '2004' '0302' '2104' '0605' '1709' '1502' '1508' '0206' '1910' '2005'\n",
      " '2001' '1808' '0601' '1407' '1403' '1818' '1207' '2212' '2201' '0609'\n",
      " '2106' '0509' '2210' '2010' '0511' '1806' '0706' '1703' '1707' '1507'\n",
      " '2105' '0702' '0709' '1913' '0401' '0602' '1506' '0803' '1603' '1005'\n",
      " '1604' '0203' '1204' '1815' '0410' '1004' '1706' '1805' '1503' '0903'\n",
      " '1408' '1202' '0507' '0403' '0904' '1104' '0409' '1822' '0404' '1307'\n",
      " '1601' '0307' '1911' '1410' '2006' '1809' '1701' '1903' '2202' '1305'\n",
      " '1209' '0105' '0901' '2109' '2205' '2207' '2110' '2116' '0205' '2209'\n",
      " '2113' '1201' '1102' '2111' '0902' '1804' '0405' '0407' '1607' '1501'\n",
      " '0707' '2014' '0408' '0703' '1413' '0505' '0607' '0114' '2018' '0207'\n",
      " '1303' '2108' '1705' '2208' '2009' '0109' '2101' '1208' '2016' '2114'\n",
      " '1404' '0107' '1409' '1820' '1301' '0204' '1704' '0704' '2007' '2112'\n",
      " '2015' '2003' '1304' '2103' '0806' '0805' '2002' '1812' '1802' '1814'\n",
      " '0305' '2107' '0608' '0502' '0106' '1905' '1002' '0406' '1110' '1710'\n",
      " '0801' nan '1008' '1909' '1708' '0802' '2115' '1205' '1406' '1811' '1505'\n",
      " '1702' '1823' '0502A' '1001']\n",
      "['1714' '2008' '2017' '1816' '1309' '1006' '2102' '1103' '1602' '0701'\n",
      " '1817' '0501' '1810' '0905' '2019' '0606' '2211' '1801' '1009' '1711'\n",
      " '1611' '1606' '1612' '1713' '1821' '1803' '1608' '0710' '1310' '1306'\n",
      " '0510' '1819' '0705' '0101' '0807' '1813' '1908' '0604' '0306' '0201'\n",
      " '0506' '0303' '0508' '0308' '0301' '2213' '2012' '1106' '2203' '0111'\n",
      " '0708' '1308' '2204' '0202' '2013' '1906' '0112' '0113' '0103' '0102'\n",
      " '0110' '2020' '1007' '-1' '0104' '0504' '1509' '1807' '1101' '1605'\n",
      " '0108' '2011' '1411' '1414' '2206' '1402' '1206' '0304' '1109' '1107'\n",
      " '0402' '1302' '1610' '1003' '1712' '1907' '1912' '1108' '0804' '0503'\n",
      " '1105' '1901' '1902' '1904' '1203' '1504' '1609' '1405' '1401' '1412'\n",
      " '0603' '2004' '0302' '2104' '0605' '1709' '1502' '1508' '0206' '1910'\n",
      " '2005' '2001' '1808' '0601' '1407' '1403' '1818' '1207' '2212' '2201'\n",
      " '0609' '2106' '0509' '2210' '2010' '0511' '1806' '0706' '1703' '1707'\n",
      " '1507' '2105' '0702' '0709' '1913' '0401' '0602' '1506' '0803' '1603'\n",
      " '1005' '1604' '0203' '1204' '1815' '0410' '1004' '1706' '1805' '1503'\n",
      " '0903' '1408' '1202' '0507' '0403' '0904' '1104' '0409' '1822' '0404'\n",
      " '1307' '1601' '0307' '1911' '1410' '2006' '1809' '1701' '1903' '2202'\n",
      " '1305' '1209' '0105' '0901' '2109' '2205' '2207' '2110' '2116' '0205'\n",
      " '2209' '2113' '1201' '1102' '2111' '0902' '1804' '0405' '0407' '1607'\n",
      " '1501' '0707' '2014' '0408' '0703' '1413' '0505' '0607' '0114' '2018'\n",
      " '0207' '1303' '2108' '1705' '2208' '2009' '0109' '2101' '1208' '2016'\n",
      " '2114' '1404' '0107' '1409' '1820' '1301' '0204' '1704' '0704' '2007'\n",
      " '2112' '2015' '2003' '1304' '2103' '0806' '0805' '2002' '1812' '1802'\n",
      " '1814' '0305' '2107' '0608' '0502' '0106' '1905' '1002' '0406' '1110'\n",
      " '1710' '0801' '1008' '1909' '1708' '0802' '2115' '1205' '1406' '1811'\n",
      " '1505' '1702' '1823' '0502A' '1001']\n"
     ]
    }
   ],
   "source": [
    "target = \"precinct\"\n",
    "print(df[target].unique())\n",
    "# Change \" \" and \"nan\" to -1\n",
    "df[target] = df[target].replace(\" \", \"-1\")\n",
    "df[target] = df[target].fillna(\"-1\")\n",
    "print(df[target].unique())"
   ]
  },
  {
   "cell_type": "code",
   "execution_count": 78,
   "metadata": {},
   "outputs": [
    {
     "name": "stdout",
     "output_type": "stream",
     "text": [
      "['07' '06' '08' '03' '10A' '10B' '05' '1C' '04' '02' '09' '1A' '1B' ' '\n",
      " nan '6' '4' '3' '9' '5' '2' '7' '8']\n",
      "['07' '06' '08' '03' '10A' '10B' '05' '1C' '04' '02' '09' '1A' '1B' '-1'\n",
      " '6' '4' '3' '9' '5' '2' '7' '8']\n"
     ]
    }
   ],
   "source": [
    "target = \"pwd_district\"\n",
    "print(df[target].unique())\n",
    "# Change \" \" and \"nan\" to -1\n",
    "df[target] = df[target].replace(\" \", \"-1\")\n",
    "df[target] = df[target].fillna(\"-1\")\n",
    "print(df[target].unique())"
   ]
  },
  {
   "cell_type": "code",
   "execution_count": 79,
   "metadata": {},
   "outputs": [
    {
     "data": {
      "text/plain": [
       "case_enquiry_id                        0\n",
       "open_dt                                0\n",
       "closed_dt                         195432\n",
       "on_time                                0\n",
       "case_status                            0\n",
       "closure_reason                         0\n",
       "subject                                0\n",
       "reason                                 0\n",
       "type                                   0\n",
       "queue                                  0\n",
       "department                             0\n",
       "fire_district                          0\n",
       "pwd_district                           0\n",
       "city_council_district                  0\n",
       "police_district                        0\n",
       "neighborhood                           0\n",
       "neighborhood_services_district         0\n",
       "ward                                   0\n",
       "precinct                               0\n",
       "location_zipcode                       0\n",
       "latitude                           44020\n",
       "longitude                          44020\n",
       "source                                 0\n",
       "resolution_time                   195432\n",
       "open_year                              0\n",
       "open_month                             0\n",
       "open_day                               0\n",
       "open_hour                              0\n",
       "open_minute                            0\n",
       "open_dayofweek                         0\n",
       "open_dayofyear                         0\n",
       "open_quarter                           0\n",
       "dtype: int64"
      ]
     },
     "execution_count": 79,
     "metadata": {},
     "output_type": "execute_result"
    }
   ],
   "source": [
    "df.isnull().sum()"
   ]
  },
  {
   "cell_type": "code",
   "execution_count": 109,
   "metadata": {},
   "outputs": [
    {
     "data": {
      "text/html": [
       "<div>\n",
       "<style scoped>\n",
       "    .dataframe tbody tr th:only-of-type {\n",
       "        vertical-align: middle;\n",
       "    }\n",
       "\n",
       "    .dataframe tbody tr th {\n",
       "        vertical-align: top;\n",
       "    }\n",
       "\n",
       "    .dataframe thead th {\n",
       "        text-align: right;\n",
       "    }\n",
       "</style>\n",
       "<table border=\"1\" class=\"dataframe\">\n",
       "  <thead>\n",
       "    <tr style=\"text-align: right;\">\n",
       "      <th></th>\n",
       "      <th>case_enquiry_id</th>\n",
       "      <th>open_dt</th>\n",
       "      <th>closed_dt</th>\n",
       "      <th>case_status</th>\n",
       "      <th>closure_reason</th>\n",
       "      <th>subject</th>\n",
       "      <th>reason</th>\n",
       "      <th>type</th>\n",
       "      <th>queue</th>\n",
       "      <th>department</th>\n",
       "      <th>fire_district</th>\n",
       "      <th>pwd_district</th>\n",
       "      <th>city_council_district</th>\n",
       "      <th>police_district</th>\n",
       "      <th>neighborhood</th>\n",
       "      <th>neighborhood_services_district</th>\n",
       "      <th>ward</th>\n",
       "      <th>precinct</th>\n",
       "      <th>location_zipcode</th>\n",
       "      <th>latitude</th>\n",
       "      <th>longitude</th>\n",
       "      <th>source</th>\n",
       "      <th>resolution_time</th>\n",
       "      <th>open_year</th>\n",
       "      <th>open_month</th>\n",
       "      <th>open_day</th>\n",
       "      <th>open_hour</th>\n",
       "      <th>open_minute</th>\n",
       "      <th>open_dayofweek</th>\n",
       "      <th>open_dayofyear</th>\n",
       "      <th>open_quarter</th>\n",
       "    </tr>\n",
       "  </thead>\n",
       "  <tbody>\n",
       "    <tr>\n",
       "      <th>0</th>\n",
       "      <td>101000295613</td>\n",
       "      <td>2011-06-30 21:32:33</td>\n",
       "      <td>2011-07-01 01:06:58</td>\n",
       "      <td>Closed</td>\n",
       "      <td>resolved</td>\n",
       "      <td>Public Works Department</td>\n",
       "      <td>Street Lights</td>\n",
       "      <td>Street Light Outages</td>\n",
       "      <td>PWDx_Street Light Outages</td>\n",
       "      <td>PWDx</td>\n",
       "      <td>8</td>\n",
       "      <td>07</td>\n",
       "      <td>3</td>\n",
       "      <td>B3</td>\n",
       "      <td>Greater Mattapan</td>\n",
       "      <td>7</td>\n",
       "      <td>Ward 17</td>\n",
       "      <td>1714</td>\n",
       "      <td>2126</td>\n",
       "      <td>42.271544</td>\n",
       "      <td>-71.077221</td>\n",
       "      <td>Employee Generated</td>\n",
       "      <td>0.148900</td>\n",
       "      <td>2011</td>\n",
       "      <td>6</td>\n",
       "      <td>30</td>\n",
       "      <td>21</td>\n",
       "      <td>32</td>\n",
       "      <td>3</td>\n",
       "      <td>181</td>\n",
       "      <td>2</td>\n",
       "    </tr>\n",
       "    <tr>\n",
       "      <th>1</th>\n",
       "      <td>101000295614</td>\n",
       "      <td>2011-06-30 22:18:31</td>\n",
       "      <td>2011-07-01 02:12:43</td>\n",
       "      <td>Closed</td>\n",
       "      <td>closed</td>\n",
       "      <td>Public Works Department</td>\n",
       "      <td>Sanitation</td>\n",
       "      <td>Schedule a Bulk Item Pickup</td>\n",
       "      <td>PWDx_Schedule a Bulk Item Pickup</td>\n",
       "      <td>PWDx</td>\n",
       "      <td>12</td>\n",
       "      <td>06</td>\n",
       "      <td>5</td>\n",
       "      <td>E5</td>\n",
       "      <td>Roslindale</td>\n",
       "      <td>10</td>\n",
       "      <td>Ward 20</td>\n",
       "      <td>2008</td>\n",
       "      <td>2131</td>\n",
       "      <td>42.283850</td>\n",
       "      <td>-71.144741</td>\n",
       "      <td>Self Service</td>\n",
       "      <td>0.162639</td>\n",
       "      <td>2011</td>\n",
       "      <td>6</td>\n",
       "      <td>30</td>\n",
       "      <td>22</td>\n",
       "      <td>18</td>\n",
       "      <td>3</td>\n",
       "      <td>181</td>\n",
       "      <td>2</td>\n",
       "    </tr>\n",
       "    <tr>\n",
       "      <th>2</th>\n",
       "      <td>101000295615</td>\n",
       "      <td>2011-06-30 22:28:04</td>\n",
       "      <td>2011-08-01 11:21:46</td>\n",
       "      <td>Closed</td>\n",
       "      <td>resolved</td>\n",
       "      <td>Transportation - Traffic Division</td>\n",
       "      <td>Signs &amp; Signals</td>\n",
       "      <td>New Sign  Crosswalk or Pavement Marking</td>\n",
       "      <td>BTDT_Engineering_New Sign and Pavement Marking...</td>\n",
       "      <td>BTDT</td>\n",
       "      <td>NaN</td>\n",
       "      <td>06</td>\n",
       "      <td>6</td>\n",
       "      <td>E5</td>\n",
       "      <td>West Roxbury</td>\n",
       "      <td>12</td>\n",
       "      <td>Ward 20</td>\n",
       "      <td>2017</td>\n",
       "      <td>2132</td>\n",
       "      <td>42.300278</td>\n",
       "      <td>-71.169805</td>\n",
       "      <td>Self Service</td>\n",
       "      <td>31.537292</td>\n",
       "      <td>2011</td>\n",
       "      <td>6</td>\n",
       "      <td>30</td>\n",
       "      <td>22</td>\n",
       "      <td>28</td>\n",
       "      <td>3</td>\n",
       "      <td>181</td>\n",
       "      <td>2</td>\n",
       "    </tr>\n",
       "    <tr>\n",
       "      <th>3</th>\n",
       "      <td>101000295616</td>\n",
       "      <td>2011-06-30 23:03:48</td>\n",
       "      <td>2011-07-22 12:13:45</td>\n",
       "      <td>Closed</td>\n",
       "      <td>resolved</td>\n",
       "      <td>Public Works Department</td>\n",
       "      <td>Street Lights</td>\n",
       "      <td>Street Light Outages</td>\n",
       "      <td>PWDx_Street Light_Pending_Contractor (Internal)</td>\n",
       "      <td>PWDx</td>\n",
       "      <td>12</td>\n",
       "      <td>08</td>\n",
       "      <td>5</td>\n",
       "      <td>E18</td>\n",
       "      <td>Hyde Park</td>\n",
       "      <td>10</td>\n",
       "      <td>Ward 18</td>\n",
       "      <td>1816</td>\n",
       "      <td>2136</td>\n",
       "      <td>42.249640</td>\n",
       "      <td>-71.115631</td>\n",
       "      <td>Self Service</td>\n",
       "      <td>21.548576</td>\n",
       "      <td>2011</td>\n",
       "      <td>6</td>\n",
       "      <td>30</td>\n",
       "      <td>23</td>\n",
       "      <td>3</td>\n",
       "      <td>3</td>\n",
       "      <td>181</td>\n",
       "      <td>2</td>\n",
       "    </tr>\n",
       "    <tr>\n",
       "      <th>4</th>\n",
       "      <td>101000295617</td>\n",
       "      <td>2011-06-30 23:12:31</td>\n",
       "      <td>2011-07-01 02:12:38</td>\n",
       "      <td>Closed</td>\n",
       "      <td>resolved</td>\n",
       "      <td>Public Works Department</td>\n",
       "      <td>Highway Maintenance</td>\n",
       "      <td>Highway Maintenance</td>\n",
       "      <td>PWDx_District 03: North Dorchester</td>\n",
       "      <td>PWDx</td>\n",
       "      <td>7</td>\n",
       "      <td>03</td>\n",
       "      <td>3</td>\n",
       "      <td>C11</td>\n",
       "      <td>Dorchester</td>\n",
       "      <td>7</td>\n",
       "      <td>Ward 13</td>\n",
       "      <td>1309</td>\n",
       "      <td>2125</td>\n",
       "      <td>42.314436</td>\n",
       "      <td>-71.056878</td>\n",
       "      <td>Constituent Call</td>\n",
       "      <td>0.125081</td>\n",
       "      <td>2011</td>\n",
       "      <td>6</td>\n",
       "      <td>30</td>\n",
       "      <td>23</td>\n",
       "      <td>12</td>\n",
       "      <td>3</td>\n",
       "      <td>181</td>\n",
       "      <td>2</td>\n",
       "    </tr>\n",
       "  </tbody>\n",
       "</table>\n",
       "</div>"
      ],
      "text/plain": [
       "   case_enquiry_id             open_dt           closed_dt case_status closure_reason                            subject               reason                                     type                                              queue department fire_district pwd_district city_council_district police_district      neighborhood neighborhood_services_district     ward precinct  location_zipcode   latitude  longitude              source  resolution_time  open_year  open_month  open_day  open_hour  open_minute  open_dayofweek  open_dayofyear  open_quarter\n",
       "0     101000295613 2011-06-30 21:32:33 2011-07-01 01:06:58      Closed       resolved            Public Works Department        Street Lights                     Street Light Outages                          PWDx_Street Light Outages       PWDx             8           07                     3              B3  Greater Mattapan                              7  Ward 17     1714              2126  42.271544 -71.077221  Employee Generated         0.148900       2011           6        30         21           32               3             181             2\n",
       "1     101000295614 2011-06-30 22:18:31 2011-07-01 02:12:43      Closed         closed            Public Works Department           Sanitation              Schedule a Bulk Item Pickup                   PWDx_Schedule a Bulk Item Pickup       PWDx            12           06                     5              E5        Roslindale                             10  Ward 20     2008              2131  42.283850 -71.144741        Self Service         0.162639       2011           6        30         22           18               3             181             2\n",
       "2     101000295615 2011-06-30 22:28:04 2011-08-01 11:21:46      Closed       resolved  Transportation - Traffic Division      Signs & Signals  New Sign  Crosswalk or Pavement Marking  BTDT_Engineering_New Sign and Pavement Marking...       BTDT           NaN           06                     6              E5      West Roxbury                             12  Ward 20     2017              2132  42.300278 -71.169805        Self Service        31.537292       2011           6        30         22           28               3             181             2\n",
       "3     101000295616 2011-06-30 23:03:48 2011-07-22 12:13:45      Closed       resolved            Public Works Department        Street Lights                     Street Light Outages    PWDx_Street Light_Pending_Contractor (Internal)       PWDx            12           08                     5             E18         Hyde Park                             10  Ward 18     1816              2136  42.249640 -71.115631        Self Service        21.548576       2011           6        30         23            3               3             181             2\n",
       "4     101000295617 2011-06-30 23:12:31 2011-07-01 02:12:38      Closed       resolved            Public Works Department  Highway Maintenance                      Highway Maintenance                 PWDx_District 03: North Dorchester       PWDx             7           03                     3             C11        Dorchester                              7  Ward 13     1309              2125  42.314436 -71.056878    Constituent Call         0.125081       2011           6        30         23           12               3             181             2"
      ]
     },
     "execution_count": 109,
     "metadata": {},
     "output_type": "execute_result"
    }
   ],
   "source": [
    "pd.set_option('display.max_columns', None)  # Shows all columns\n",
    "pd.set_option('display.expand_frame_repr', False)  # Prevents DataFrame from being split across the page\n",
    "df.head()"
   ]
  },
  {
   "cell_type": "code",
   "execution_count": 137,
   "metadata": {},
   "outputs": [
    {
     "data": {
      "text/plain": [
       "2     474250\n",
       "1     381005\n",
       "7     300999\n",
       "6     281029\n",
       "3     261594\n",
       "5     246194\n",
       "8     242401\n",
       "4     234577\n",
       "9     228357\n",
       "-1     55057\n",
       "0       3185\n",
       "Name: city_council_district, dtype: int64"
      ]
     },
     "execution_count": 137,
     "metadata": {},
     "output_type": "execute_result"
    }
   ],
   "source": [
    "df['city_council_district'].value_counts()\n"
   ]
  },
  {
   "cell_type": "code",
   "execution_count": 135,
   "metadata": {},
   "outputs": [],
   "source": [
    "# # update neighborhood_services_district, and city_council_district such that Nan and \" \" are replaced with -1\n",
    "# df['neighborhood_services_district'] = df['neighborhood_services_district'].replace(\" \", -1)\n",
    "# df['city_council_district'] = df['city_council_district'].replace(\" \", -1)\n",
    "# # fill na with -1\n",
    "# df['neighborhood_services_district'] = df['neighborhood_services_district'].fillna(-1)\n",
    "# df['city_council_district'] = df['city_council_district'].fillna(-1)"
   ]
  },
  {
   "cell_type": "code",
   "execution_count": 80,
   "metadata": {},
   "outputs": [
    {
     "data": {
      "text/plain": [
       "(2708648, 32)"
      ]
     },
     "execution_count": 80,
     "metadata": {},
     "output_type": "execute_result"
    }
   ],
   "source": [
    "df.shape"
   ]
  },
  {
   "cell_type": "code",
   "execution_count": 139,
   "metadata": {},
   "outputs": [],
   "source": [
    "# Save the cleaned data to a new csv file\n",
    "df.to_csv('../../data/311_cleaned_v2.csv', index=False)"
   ]
  }
 ],
 "metadata": {
  "kernelspec": {
   "display_name": "venv",
   "language": "python",
   "name": "python3"
  },
  "language_info": {
   "codemirror_mode": {
    "name": "ipython",
    "version": 3
   },
   "file_extension": ".py",
   "mimetype": "text/x-python",
   "name": "python",
   "nbconvert_exporter": "python",
   "pygments_lexer": "ipython3",
   "version": "3.9.13"
  }
 },
 "nbformat": 4,
 "nbformat_minor": 2
}
